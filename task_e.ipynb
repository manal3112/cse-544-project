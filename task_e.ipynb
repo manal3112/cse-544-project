{
 "cells": [
  {
   "cell_type": "code",
   "execution_count": 24,
   "id": "d0d77a0a",
   "metadata": {},
   "outputs": [],
   "source": [
    "#import the necessary libraries\n",
    "\n",
    "import numpy as np\n",
    "import pandas as pd"
   ]
  },
  {
   "cell_type": "code",
   "execution_count": 25,
   "id": "06955d9d",
   "metadata": {},
   "outputs": [],
   "source": [
    "# Load the dataset\n",
    "\n",
    "georgia = pd.read_csv(\"georgia_vaccinations.csv\")\n",
    "indiana= pd.read_csv(\"indiana_vaccinations.csv\")\n",
    "\n",
    "georgia_vaccines=georgia['Daily Administered'].to_numpy()\n",
    "indiana_vaccines=indiana['Daily Administered'].to_numpy()"
   ]
  },
  {
   "cell_type": "code",
   "execution_count": 26,
   "id": "0f7ba1fe",
   "metadata": {},
   "outputs": [],
   "source": [
    "georgia_vaccines_sept = georgia_vaccines[243:269]\n",
    "georgia_vaccines_nov = georgia_vaccines[300:326]\n",
    "\n",
    "indiana_vaccines_sept = indiana_vaccines[244:273] \n",
    "indiana_vaccines_nov = indiana_vaccines[305:334]"
   ]
  },
  {
   "cell_type": "code",
   "execution_count": 27,
   "id": "9cb2bda7",
   "metadata": {
    "scrolled": true
   },
   "outputs": [
    {
     "name": "stdout",
     "output_type": "stream",
     "text": [
      "For Georgia:\n",
      "T statistic -0.030400115657766028\n",
      "Accept Ho: Mean of the number vaccinations are different for Feb’21 and March’21 in Georgia\n",
      "\n",
      "\n",
      "For Indiana:\n",
      "T statistic -2.481255364562329\n",
      "Reject Ho: Mean of the number vaccinations are different for Feb’21 and March’21 in Indiana\n"
     ]
    }
   ],
   "source": [
    "# Two sided Paired T test \n",
    "\n",
    "def paired_t_test(sample1,sample2,tvalue,hypothesis):\n",
    "    \n",
    "    # New Sample D = Xi - Yi\n",
    "    D = np.subtract(sample1,sample2) \n",
    "    \n",
    "    n = len(D)\n",
    "    \n",
    "    # Mean of the new sample\n",
    "    D_bar = np.mean(D)\n",
    "    \n",
    "    # Uncorrected std deviation of the new sample\n",
    "    s_d = np.std(D)\n",
    "    \n",
    "    # Compute the T statistic\n",
    "    T = (D_bar/s_d)*np.sqrt(n) \n",
    "    print(\"T statistic\",T)\n",
    "    \n",
    "    # Using the value of tn-1,0.025 where n is the number of datapoints in the sample to accept or reject\n",
    "    \n",
    "    if(abs(T) > tvalue):\n",
    "        print(\"Reject Ho:\",hypothesis)\n",
    "    else:\n",
    "        print(\"Accept Ho:\",hypothesis)\n",
    "\n",
    "    \n",
    "print(\"For Georgia:\")    \n",
    "paired_t_test(georgia_vaccines_sept,georgia_vaccines_nov,2.059539,\"Mean of the number vaccinations are different for Feb’21 and March’21 in Georgia\")\n",
    "print(\"\\n\")\n",
    "print(\"For Indiana:\")\n",
    "paired_t_test(indiana_vaccines_sept,indiana_vaccines_nov,2.048407,\"Mean of the number vaccinations are different for Feb’21 and March’21 in Indiana\")\n"
   ]
  },
  {
   "cell_type": "markdown",
   "id": "c4fde4fe",
   "metadata": {},
   "source": [
    "## Inference:"
   ]
  },
  {
   "cell_type": "markdown",
   "id": "a7ee2ad3",
   "metadata": {},
   "source": [
    "In the month of September, Georgia saw a decrease in the covid cases as well as an increase in the vaccinations. Wheras, in the month of November Georgia saw an increase in the covid cases which may have caused the vaccination rate to grow at a much slower rate. This is in accordance with our result from the hypothesis test that the means of the two months are different as their vaccination growth rates are also different.\n",
    "\n",
    "In the month of September and November it can be observed that there was a plateau in the number of covid cases with almost the same amount of cases. The vaccination rate is also increasing at the same pace in both of these months. This is in accordance with our result from the hypothesis test that the means of the two months are same."
   ]
  }
 ],
 "metadata": {
  "kernelspec": {
   "display_name": "Python 3 (ipykernel)",
   "language": "python",
   "name": "python3"
  },
  "language_info": {
   "codemirror_mode": {
    "name": "ipython",
    "version": 3
   },
   "file_extension": ".py",
   "mimetype": "text/x-python",
   "name": "python",
   "nbconvert_exporter": "python",
   "pygments_lexer": "ipython3",
   "version": "3.8.8"
  }
 },
 "nbformat": 4,
 "nbformat_minor": 5
}
