{
 "cells": [
  {
   "cell_type": "code",
   "execution_count": 1,
   "id": "2886a6b3",
   "metadata": {},
   "outputs": [],
   "source": [
    "import pandas as pd\n",
    "import numpy as np\n",
    "import datetime"
   ]
  },
  {
   "cell_type": "markdown",
   "id": "305d3fca",
   "metadata": {},
   "source": [
    "# Data Cleaning Utilities"
   ]
  },
  {
   "cell_type": "markdown",
   "id": "c0e28a95",
   "metadata": {},
   "source": [
    "Tukey rule for removing outliers"
   ]
  },
  {
   "cell_type": "code",
   "execution_count": 2,
   "id": "daee9af1",
   "metadata": {},
   "outputs": [],
   "source": [
    "def tukey_range(values):\n",
    "    \n",
    "    alpha = 1.5\n",
    "    sorted_values = sorted(values)\n",
    "    \n",
    "    # Q1\n",
    "    q1_index = int(np.ceil(0.25 * len(values)))\n",
    "    q1 = sorted_values[q1_index]\n",
    "    \n",
    "    # Q3\n",
    "    q3_index = int(np.ceil(0.75 * len(values)))\n",
    "    q3 = sorted_values[q3_index]\n",
    "    \n",
    "    # IQR\n",
    "    iqr = q3 - q1\n",
    "    \n",
    "    return q1 - (alpha * iqr), q3 + (alpha * iqr)"
   ]
  },
  {
   "cell_type": "markdown",
   "id": "9214f11e",
   "metadata": {},
   "source": [
    "Remove missing, invalid entries and outliers "
   ]
  },
  {
   "cell_type": "code",
   "execution_count": 3,
   "id": "975f742d",
   "metadata": {},
   "outputs": [],
   "source": [
    "def clean_data(series):\n",
    "    \n",
    "    #Check if any NA values\n",
    "    print(\"Missing Values:{}\\n\".format(len(series[series.isna()])))\n",
    "    \n",
    "    invalid_entries = series[series < 0].values\n",
    "    print(\"Invalid entries: {}\\n\".format(invalid_entries))\n",
    "    \n",
    "    series = series[series >=0]\n",
    "    lower_limit, upper_limit = tukey_range(series.values)\n",
    "    print(\"Lower Range: {}, Upper Range: {}\\n\".format(lower_limit, upper_limit))\n",
    "    \n",
    "    outliers = list(series[series < lower_limit].values) + list(series[series > upper_limit].values)\n",
    "    print(\"Total Outliers: {}\\n\".format(len(outliers)))\n",
    "    print(\"Outliers: \\n{}\\n\".format(outliers))\n",
    "    \n",
    "    outliers_index = list(series[series < lower_limit].index) + list(series[series > upper_limit].index)\n",
    "    return series.drop(index = outliers_index)"
   ]
  },
  {
   "cell_type": "markdown",
   "id": "99b831a9",
   "metadata": {},
   "source": [
    "# Cases"
   ]
  },
  {
   "cell_type": "code",
   "execution_count": 4,
   "id": "6e828b62",
   "metadata": {},
   "outputs": [],
   "source": [
    "cases = pd.read_csv(\"dataset/United_States_COVID-19_Cases_and_Deaths_by_State_over_Time.csv\")"
   ]
  },
  {
   "cell_type": "code",
   "execution_count": 5,
   "id": "291248f5",
   "metadata": {},
   "outputs": [
    {
     "data": {
      "text/html": [
       "<div>\n",
       "<style scoped>\n",
       "    .dataframe tbody tr th:only-of-type {\n",
       "        vertical-align: middle;\n",
       "    }\n",
       "\n",
       "    .dataframe tbody tr th {\n",
       "        vertical-align: top;\n",
       "    }\n",
       "\n",
       "    .dataframe thead th {\n",
       "        text-align: right;\n",
       "    }\n",
       "</style>\n",
       "<table border=\"1\" class=\"dataframe\">\n",
       "  <thead>\n",
       "    <tr style=\"text-align: right;\">\n",
       "      <th></th>\n",
       "      <th>submission_date</th>\n",
       "      <th>state</th>\n",
       "      <th>tot_cases</th>\n",
       "      <th>conf_cases</th>\n",
       "      <th>prob_cases</th>\n",
       "      <th>new_case</th>\n",
       "      <th>pnew_case</th>\n",
       "      <th>tot_death</th>\n",
       "      <th>conf_death</th>\n",
       "      <th>prob_death</th>\n",
       "      <th>new_death</th>\n",
       "      <th>pnew_death</th>\n",
       "      <th>created_at</th>\n",
       "      <th>consent_cases</th>\n",
       "      <th>consent_deaths</th>\n",
       "    </tr>\n",
       "  </thead>\n",
       "  <tbody>\n",
       "    <tr>\n",
       "      <th>0</th>\n",
       "      <td>12/01/2021</td>\n",
       "      <td>ND</td>\n",
       "      <td>163565</td>\n",
       "      <td>135705.0</td>\n",
       "      <td>27860.0</td>\n",
       "      <td>589</td>\n",
       "      <td>220.0</td>\n",
       "      <td>1907</td>\n",
       "      <td>NaN</td>\n",
       "      <td>NaN</td>\n",
       "      <td>9</td>\n",
       "      <td>0.0</td>\n",
       "      <td>12/02/2021 02:35:20 PM</td>\n",
       "      <td>Agree</td>\n",
       "      <td>Not agree</td>\n",
       "    </tr>\n",
       "    <tr>\n",
       "      <th>1</th>\n",
       "      <td>08/17/2020</td>\n",
       "      <td>MD</td>\n",
       "      <td>100715</td>\n",
       "      <td>NaN</td>\n",
       "      <td>NaN</td>\n",
       "      <td>503</td>\n",
       "      <td>0.0</td>\n",
       "      <td>3765</td>\n",
       "      <td>3616.0</td>\n",
       "      <td>149.0</td>\n",
       "      <td>3</td>\n",
       "      <td>0.0</td>\n",
       "      <td>08/19/2020 12:00:00 AM</td>\n",
       "      <td>NaN</td>\n",
       "      <td>Agree</td>\n",
       "    </tr>\n",
       "    <tr>\n",
       "      <th>2</th>\n",
       "      <td>03/28/2022</td>\n",
       "      <td>VT</td>\n",
       "      <td>107785</td>\n",
       "      <td>NaN</td>\n",
       "      <td>NaN</td>\n",
       "      <td>467</td>\n",
       "      <td>35.0</td>\n",
       "      <td>585</td>\n",
       "      <td>NaN</td>\n",
       "      <td>NaN</td>\n",
       "      <td>0</td>\n",
       "      <td>0.0</td>\n",
       "      <td>03/29/2022 01:30:11 PM</td>\n",
       "      <td>Not agree</td>\n",
       "      <td>Not agree</td>\n",
       "    </tr>\n",
       "    <tr>\n",
       "      <th>3</th>\n",
       "      <td>03/18/2020</td>\n",
       "      <td>ME</td>\n",
       "      <td>44</td>\n",
       "      <td>44.0</td>\n",
       "      <td>0.0</td>\n",
       "      <td>12</td>\n",
       "      <td>0.0</td>\n",
       "      <td>0</td>\n",
       "      <td>0.0</td>\n",
       "      <td>0.0</td>\n",
       "      <td>0</td>\n",
       "      <td>0.0</td>\n",
       "      <td>03/20/2020 12:00:00 AM</td>\n",
       "      <td>Agree</td>\n",
       "      <td>Agree</td>\n",
       "    </tr>\n",
       "    <tr>\n",
       "      <th>4</th>\n",
       "      <td>02/06/2020</td>\n",
       "      <td>NE</td>\n",
       "      <td>0</td>\n",
       "      <td>NaN</td>\n",
       "      <td>NaN</td>\n",
       "      <td>0</td>\n",
       "      <td>NaN</td>\n",
       "      <td>0</td>\n",
       "      <td>NaN</td>\n",
       "      <td>NaN</td>\n",
       "      <td>0</td>\n",
       "      <td>NaN</td>\n",
       "      <td>03/26/2020 04:22:39 PM</td>\n",
       "      <td>Agree</td>\n",
       "      <td>Agree</td>\n",
       "    </tr>\n",
       "  </tbody>\n",
       "</table>\n",
       "</div>"
      ],
      "text/plain": [
       "  submission_date state  tot_cases  conf_cases  prob_cases  new_case  \\\n",
       "0      12/01/2021    ND     163565    135705.0     27860.0       589   \n",
       "1      08/17/2020    MD     100715         NaN         NaN       503   \n",
       "2      03/28/2022    VT     107785         NaN         NaN       467   \n",
       "3      03/18/2020    ME         44        44.0         0.0        12   \n",
       "4      02/06/2020    NE          0         NaN         NaN         0   \n",
       "\n",
       "   pnew_case  tot_death  conf_death  prob_death  new_death  pnew_death  \\\n",
       "0      220.0       1907         NaN         NaN          9         0.0   \n",
       "1        0.0       3765      3616.0       149.0          3         0.0   \n",
       "2       35.0        585         NaN         NaN          0         0.0   \n",
       "3        0.0          0         0.0         0.0          0         0.0   \n",
       "4        NaN          0         NaN         NaN          0         NaN   \n",
       "\n",
       "               created_at consent_cases consent_deaths  \n",
       "0  12/02/2021 02:35:20 PM         Agree      Not agree  \n",
       "1  08/19/2020 12:00:00 AM           NaN          Agree  \n",
       "2  03/29/2022 01:30:11 PM     Not agree      Not agree  \n",
       "3  03/20/2020 12:00:00 AM         Agree          Agree  \n",
       "4  03/26/2020 04:22:39 PM         Agree          Agree  "
      ]
     },
     "execution_count": 5,
     "metadata": {},
     "output_type": "execute_result"
    }
   ],
   "source": [
    "cases.head()"
   ]
  },
  {
   "cell_type": "code",
   "execution_count": 6,
   "id": "a501a148",
   "metadata": {},
   "outputs": [],
   "source": [
    "cases[\"submission_date\"] = pd.to_datetime(cases[\"submission_date\"])"
   ]
  },
  {
   "cell_type": "markdown",
   "id": "c94f8c12",
   "metadata": {},
   "source": [
    "# Georgia"
   ]
  },
  {
   "cell_type": "code",
   "execution_count": 7,
   "id": "69f10da1",
   "metadata": {},
   "outputs": [],
   "source": [
    "georgia_df = cases[cases[\"state\"].isin(['GA'])].sort_values(by = \"submission_date\").set_index(\"submission_date\")\n",
    "georgia_case_death = georgia_df[[\"new_case\", \"new_death\"]]"
   ]
  },
  {
   "cell_type": "code",
   "execution_count": 8,
   "id": "e5f2513a",
   "metadata": {},
   "outputs": [
    {
     "data": {
      "text/html": [
       "<div>\n",
       "<style scoped>\n",
       "    .dataframe tbody tr th:only-of-type {\n",
       "        vertical-align: middle;\n",
       "    }\n",
       "\n",
       "    .dataframe tbody tr th {\n",
       "        vertical-align: top;\n",
       "    }\n",
       "\n",
       "    .dataframe thead th {\n",
       "        text-align: right;\n",
       "    }\n",
       "</style>\n",
       "<table border=\"1\" class=\"dataframe\">\n",
       "  <thead>\n",
       "    <tr style=\"text-align: right;\">\n",
       "      <th></th>\n",
       "      <th>new_case</th>\n",
       "      <th>new_death</th>\n",
       "    </tr>\n",
       "    <tr>\n",
       "      <th>submission_date</th>\n",
       "      <th></th>\n",
       "      <th></th>\n",
       "    </tr>\n",
       "  </thead>\n",
       "  <tbody>\n",
       "    <tr>\n",
       "      <th>2020-01-22</th>\n",
       "      <td>0</td>\n",
       "      <td>0</td>\n",
       "    </tr>\n",
       "    <tr>\n",
       "      <th>2020-01-23</th>\n",
       "      <td>0</td>\n",
       "      <td>0</td>\n",
       "    </tr>\n",
       "    <tr>\n",
       "      <th>2020-01-24</th>\n",
       "      <td>0</td>\n",
       "      <td>0</td>\n",
       "    </tr>\n",
       "    <tr>\n",
       "      <th>2020-01-25</th>\n",
       "      <td>0</td>\n",
       "      <td>0</td>\n",
       "    </tr>\n",
       "    <tr>\n",
       "      <th>2020-01-26</th>\n",
       "      <td>0</td>\n",
       "      <td>0</td>\n",
       "    </tr>\n",
       "    <tr>\n",
       "      <th>...</th>\n",
       "      <td>...</td>\n",
       "      <td>...</td>\n",
       "    </tr>\n",
       "    <tr>\n",
       "      <th>2022-05-02</th>\n",
       "      <td>0</td>\n",
       "      <td>0</td>\n",
       "    </tr>\n",
       "    <tr>\n",
       "      <th>2022-05-03</th>\n",
       "      <td>0</td>\n",
       "      <td>0</td>\n",
       "    </tr>\n",
       "    <tr>\n",
       "      <th>2022-05-04</th>\n",
       "      <td>6525</td>\n",
       "      <td>163</td>\n",
       "    </tr>\n",
       "    <tr>\n",
       "      <th>2022-05-05</th>\n",
       "      <td>0</td>\n",
       "      <td>0</td>\n",
       "    </tr>\n",
       "    <tr>\n",
       "      <th>2022-05-06</th>\n",
       "      <td>0</td>\n",
       "      <td>0</td>\n",
       "    </tr>\n",
       "  </tbody>\n",
       "</table>\n",
       "<p>836 rows × 2 columns</p>\n",
       "</div>"
      ],
      "text/plain": [
       "                 new_case  new_death\n",
       "submission_date                     \n",
       "2020-01-22              0          0\n",
       "2020-01-23              0          0\n",
       "2020-01-24              0          0\n",
       "2020-01-25              0          0\n",
       "2020-01-26              0          0\n",
       "...                   ...        ...\n",
       "2022-05-02              0          0\n",
       "2022-05-03              0          0\n",
       "2022-05-04           6525        163\n",
       "2022-05-05              0          0\n",
       "2022-05-06              0          0\n",
       "\n",
       "[836 rows x 2 columns]"
      ]
     },
     "execution_count": 8,
     "metadata": {},
     "output_type": "execute_result"
    }
   ],
   "source": [
    "georgia_case_death"
   ]
  },
  {
   "cell_type": "code",
   "execution_count": 15,
   "id": "80b6d88e",
   "metadata": {},
   "outputs": [
    {
     "data": {
      "text/plain": [
       "<AxesSubplot:>"
      ]
     },
     "execution_count": 15,
     "metadata": {},
     "output_type": "execute_result"
    },
    {
     "data": {
      "image/png": "[encoded data removed]",
      "text/plain": [
       "<Figure size 432x288 with 1 Axes>"
      ]
     },
     "metadata": {
      "needs_background": "light"
     },
     "output_type": "display_data"
    }
   ],
   "source": [
    "georgia_case_death.boxplot(\"new_case\")"
   ]
  },
  {
   "cell_type": "code",
   "execution_count": 16,
   "id": "103a2e7b",
   "metadata": {},
   "outputs": [
    {
     "data": {
      "text/plain": [
       "<AxesSubplot:>"
      ]
     },
     "execution_count": 16,
     "metadata": {},
     "output_type": "execute_result"
    },
    {
     "data": {
      "image/png": "[encoded data removed]",
      "text/plain": [
       "<Figure size 432x288 with 1 Axes>"
      ]
     },
     "metadata": {
      "needs_background": "light"
     },
     "output_type": "display_data"
    }
   ],
   "source": [
    "georgia_case_death.boxplot(\"new_death\")"
   ]
  },
  {
   "cell_type": "markdown",
   "id": "e2793e2a",
   "metadata": {},
   "source": [
    "# Indiana"
   ]
  },
  {
   "cell_type": "code",
   "execution_count": 9,
   "id": "0485293e",
   "metadata": {},
   "outputs": [],
   "source": [
    "indiana_df = cases[cases[\"state\"].isin(['IN'])].sort_values(by = \"submission_date\").set_index(\"submission_date\")\n",
    "indiana_case_death = indiana_df[[\"new_case\", \"new_death\"]]"
   ]
  },
  {
   "cell_type": "code",
   "execution_count": 10,
   "id": "2bddf22e",
   "metadata": {},
   "outputs": [
    {
     "data": {
      "text/html": [
       "<div>\n",
       "<style scoped>\n",
       "    .dataframe tbody tr th:only-of-type {\n",
       "        vertical-align: middle;\n",
       "    }\n",
       "\n",
       "    .dataframe tbody tr th {\n",
       "        vertical-align: top;\n",
       "    }\n",
       "\n",
       "    .dataframe thead th {\n",
       "        text-align: right;\n",
       "    }\n",
       "</style>\n",
       "<table border=\"1\" class=\"dataframe\">\n",
       "  <thead>\n",
       "    <tr style=\"text-align: right;\">\n",
       "      <th></th>\n",
       "      <th>new_case</th>\n",
       "      <th>new_death</th>\n",
       "    </tr>\n",
       "    <tr>\n",
       "      <th>submission_date</th>\n",
       "      <th></th>\n",
       "      <th></th>\n",
       "    </tr>\n",
       "  </thead>\n",
       "  <tbody>\n",
       "    <tr>\n",
       "      <th>2020-01-22</th>\n",
       "      <td>0</td>\n",
       "      <td>0</td>\n",
       "    </tr>\n",
       "    <tr>\n",
       "      <th>2020-01-23</th>\n",
       "      <td>0</td>\n",
       "      <td>0</td>\n",
       "    </tr>\n",
       "    <tr>\n",
       "      <th>2020-01-24</th>\n",
       "      <td>0</td>\n",
       "      <td>0</td>\n",
       "    </tr>\n",
       "    <tr>\n",
       "      <th>2020-01-25</th>\n",
       "      <td>0</td>\n",
       "      <td>0</td>\n",
       "    </tr>\n",
       "    <tr>\n",
       "      <th>2020-01-26</th>\n",
       "      <td>0</td>\n",
       "      <td>0</td>\n",
       "    </tr>\n",
       "    <tr>\n",
       "      <th>...</th>\n",
       "      <td>...</td>\n",
       "      <td>...</td>\n",
       "    </tr>\n",
       "    <tr>\n",
       "      <th>2022-05-02</th>\n",
       "      <td>1287</td>\n",
       "      <td>4</td>\n",
       "    </tr>\n",
       "    <tr>\n",
       "      <th>2022-05-03</th>\n",
       "      <td>0</td>\n",
       "      <td>0</td>\n",
       "    </tr>\n",
       "    <tr>\n",
       "      <th>2022-05-04</th>\n",
       "      <td>1815</td>\n",
       "      <td>0</td>\n",
       "    </tr>\n",
       "    <tr>\n",
       "      <th>2022-05-05</th>\n",
       "      <td>0</td>\n",
       "      <td>0</td>\n",
       "    </tr>\n",
       "    <tr>\n",
       "      <th>2022-05-06</th>\n",
       "      <td>1691</td>\n",
       "      <td>23</td>\n",
       "    </tr>\n",
       "  </tbody>\n",
       "</table>\n",
       "<p>836 rows × 2 columns</p>\n",
       "</div>"
      ],
      "text/plain": [
       "                 new_case  new_death\n",
       "submission_date                     \n",
       "2020-01-22              0          0\n",
       "2020-01-23              0          0\n",
       "2020-01-24              0          0\n",
       "2020-01-25              0          0\n",
       "2020-01-26              0          0\n",
       "...                   ...        ...\n",
       "2022-05-02           1287          4\n",
       "2022-05-03              0          0\n",
       "2022-05-04           1815          0\n",
       "2022-05-05              0          0\n",
       "2022-05-06           1691         23\n",
       "\n",
       "[836 rows x 2 columns]"
      ]
     },
     "execution_count": 10,
     "metadata": {},
     "output_type": "execute_result"
    }
   ],
   "source": [
    "indiana_case_death"
   ]
  },
  {
   "cell_type": "code",
   "execution_count": 13,
   "id": "f28f7bfd",
   "metadata": {},
   "outputs": [
    {
     "data": {
      "text/plain": [
       "<AxesSubplot:>"
      ]
     },
     "execution_count": 13,
     "metadata": {},
     "output_type": "execute_result"
    },
    {
     "data": {
      "image/png": "[encoded data removed]",
      "text/plain": [
       "<Figure size 432x288 with 1 Axes>"
      ]
     },
     "metadata": {
      "needs_background": "light"
     },
     "output_type": "display_data"
    }
   ],
   "source": [
    "indiana_case_death.boxplot(\"new_case\")"
   ]
  },
  {
   "cell_type": "code",
   "execution_count": 14,
   "id": "d359c1cc",
   "metadata": {},
   "outputs": [
    {
     "data": {
      "text/plain": [
       "<AxesSubplot:>"
      ]
     },
     "execution_count": 14,
     "metadata": {},
     "output_type": "execute_result"
    },
    {
     "data": {
      "image/png": "[encoded data removed]",
      "text/plain": [
       "<Figure size 432x288 with 1 Axes>"
      ]
     },
     "metadata": {
      "needs_background": "light"
     },
     "output_type": "display_data"
    }
   ],
   "source": [
    "indiana_case_death.boxplot(\"new_death\")"
   ]
  },
  {
   "cell_type": "code",
   "execution_count": 143,
   "id": "f2d4cb26",
   "metadata": {},
   "outputs": [
    {
     "name": "stdout",
     "output_type": "stream",
     "text": [
      "State:Georgia\n",
      "-------------------------------------------------\n",
      "-------------------------------------------------\n",
      "Feature: new_case\n",
      "----------------------------------\n",
      "Missing Values:0\n",
      "\n",
      "Invalid entries: [-5]\n",
      "\n",
      "Lower Range: -3912.5, Upper Range: 8019.5\n",
      "\n",
      "Total Outliers: 68\n",
      "\n",
      "Outliers: \n",
      "[8141, 9079, 10286, 9450, 9053, 11709, 11137, 10091, 9790, 13296, 11926, 8193, 9193, 8596, 9036, 9806, 8533, 8205, 8150, 8374, 8985, 8393, 9836, 9581, 9186, 10677, 10823, 11084, 10521, 9702, 8412, 12018, 8792, 8278, 9089, 10012, 9495, 26279, 13018, 19124, 24420, 23438, 47436, 17603, 24024, 23813, 26033, 46474, 24865, 18939, 24310, 19943, 35149, 12071, 27781, 22684, 18671, 42786, 16232, 17332, 21708, 18785, 21534, 10226, 8020, 8029, 8798, 11804]\n",
      "\n",
      "Feature: new_death\n",
      "----------------------------------\n",
      "Missing Values:0\n",
      "\n",
      "Invalid entries: [ -2  -2 -14 -91  -1  -1]\n",
      "\n",
      "Lower Range: -81.0, Upper Range: 151.0\n",
      "\n",
      "Total Outliers: 39\n",
      "\n",
      "Outliers: \n",
      "[157, 187, 172, 163, 153, 222, 196, 171, 186, 179, 161, 184, 159, 210, 208, 169, 232, 171, 195, 246, 207, 193, 156, 235, 197, 179, 182, 205, 176, 158, 180, 195, 191, 209, 158, 175, 164, 185, 163]\n",
      "\n",
      "State:Indiana\n",
      "-------------------------------------------------\n",
      "-------------------------------------------------\n",
      "Feature: new_case\n",
      "----------------------------------\n",
      "Missing Values:0\n",
      "\n",
      "Invalid entries: []\n",
      "\n",
      "Lower Range: -2842.0, Upper Range: 5750.0\n",
      "\n",
      "Total Outliers: 64\n",
      "\n",
      "Outliers: \n",
      "[6591, 8322, 6710, 6015, 7282, 6809, 6873, 6175, 5984, 6374, 6597, 8460, 7899, 7690, 6598, 5754, 6518, 7200, 7401, 5898, 6220, 6352, 5961, 6495, 6208, 6480, 6300, 6158, 7282, 6107, 5978, 6728, 5996, 7922, 6004, 12384, 11385, 10894, 20371, 7914, 11935, 31431, 8305, 12890, 15208, 14735, 37331, 11808, 15012, 16447, 15856, 36579, 11833, 16207, 16370, 17661, 35590, 9733, 12198, 17067, 19367, 6913, 6614, 6438]\n",
      "\n",
      "Feature: new_death\n",
      "----------------------------------\n",
      "Missing Values:0\n",
      "\n",
      "Invalid entries: []\n",
      "\n",
      "Lower Range: -49.5, Upper Range: 90.5\n",
      "\n",
      "Total Outliers: 52\n",
      "\n",
      "Outliers: \n",
      "[113, 103, 141, 109, 128, 96, 96, 128, 132, 143, 164, 109, 103, 110, 147, 272, 179, 453, 283, 231, 459, 93, 95, 119, 93, 92, 96, 104, 119, 170, 172, 152, 166, 182, 112, 127, 103, 115, 137, 114, 132, 128, 109, 136, 131, 111, 100, 99, 117, 108, 126, 103]\n",
      "\n"
     ]
    }
   ],
   "source": [
    "dfs = {\"Georgia\":georgia_case_death, \"Indiana\":indiana_case_death}\n",
    "res = []\n",
    "for state, df in dfs.items():\n",
    "    print(\"State:{}\".format(state))\n",
    "    print(\"-------------------------------------------------\")\n",
    "    print(\"-------------------------------------------------\")\n",
    "    s = []\n",
    "    for col in df.columns:\n",
    "        print(\"Feature: {}\".format(col))\n",
    "        print(\"----------------------------------\")\n",
    "        clean_series = clean_data(df[col])\n",
    "        # clean_series.index = df.index\n",
    "        s.append(clean_series)\n",
    "    res.append(pd.concat(s, axis = 1))\n",
    "georgia, indiana = [r.dropna(subset = [\"new_case\", \"new_death\"]) for r in res]"
   ]
  },
  {
   "cell_type": "code",
   "execution_count": 147,
   "id": "92f257dd",
   "metadata": {},
   "outputs": [],
   "source": [
    "georgia.reset_index().to_csv(\"georgia_cases_deaths.csv\", index = False)\n",
    "indiana.reset_index().to_csv(\"indiana_cases_deaths.csv\", index = False)"
   ]
  },
  {
   "cell_type": "code",
   "execution_count": 180,
   "id": "21bfc8a2",
   "metadata": {},
   "outputs": [],
   "source": [
    "# Calculating Outliers for all states \n",
    "# all_states_df = cases.sort_values(by = \"submission_date\").set_index(\"submission_date\")\n",
    "# all_states_case_death = all_states_df[[\"new_case\", \"new_death\"]]\n",
    "# s = []\n",
    "# for col in all_states_case_death.columns:\n",
    "#     print(\"Feature: {}\".format(col))\n",
    "#     print(\"----------------------------------\")\n",
    "#     clean_series = clean_data(all_states_case_death[col])\n",
    "#     s.append(clean_series)\n",
    "# pd.concat(s, axis = 1)"
   ]
  },
  {
   "cell_type": "markdown",
   "id": "5cc9b938",
   "metadata": {},
   "source": [
    "# Vaccinations"
   ]
  },
  {
   "cell_type": "code",
   "execution_count": 18,
   "id": "0d751cce",
   "metadata": {},
   "outputs": [],
   "source": [
    "vaccinations = pd.read_csv(\"dataset/COVID-19_Vaccinations_in_the_United_States_Jurisdiction.csv\")"
   ]
  },
  {
   "cell_type": "code",
   "execution_count": 19,
   "id": "4786f03d",
   "metadata": {},
   "outputs": [
    {
     "data": {
      "text/html": [
       "<div>\n",
       "<style scoped>\n",
       "    .dataframe tbody tr th:only-of-type {\n",
       "        vertical-align: middle;\n",
       "    }\n",
       "\n",
       "    .dataframe tbody tr th {\n",
       "        vertical-align: top;\n",
       "    }\n",
       "\n",
       "    .dataframe thead th {\n",
       "        text-align: right;\n",
       "    }\n",
       "</style>\n",
       "<table border=\"1\" class=\"dataframe\">\n",
       "  <thead>\n",
       "    <tr style=\"text-align: right;\">\n",
       "      <th></th>\n",
       "      <th>Date</th>\n",
       "      <th>MMWR_week</th>\n",
       "      <th>Location</th>\n",
       "      <th>Distributed</th>\n",
       "      <th>Distributed_Janssen</th>\n",
       "      <th>Distributed_Moderna</th>\n",
       "      <th>Distributed_Pfizer</th>\n",
       "      <th>Distributed_Unk_Manuf</th>\n",
       "      <th>Dist_Per_100K</th>\n",
       "      <th>Distributed_Per_100k_12Plus</th>\n",
       "      <th>...</th>\n",
       "      <th>Administered_Dose1_Recip_5PlusPop_Pct</th>\n",
       "      <th>Series_Complete_5Plus</th>\n",
       "      <th>Series_Complete_5PlusPop_Pct</th>\n",
       "      <th>Administered_5Plus</th>\n",
       "      <th>Admin_Per_100k_5Plus</th>\n",
       "      <th>Distributed_Per_100k_5Plus</th>\n",
       "      <th>Series_Complete_Moderna_5Plus</th>\n",
       "      <th>Series_Complete_Pfizer_5Plus</th>\n",
       "      <th>Series_Complete_Janssen_5Plus</th>\n",
       "      <th>Series_Complete_Unk_Manuf_5Plus</th>\n",
       "    </tr>\n",
       "  </thead>\n",
       "  <tbody>\n",
       "    <tr>\n",
       "      <th>0</th>\n",
       "      <td>05/09/2022</td>\n",
       "      <td>19</td>\n",
       "      <td>NV</td>\n",
       "      <td>5994810</td>\n",
       "      <td>259000</td>\n",
       "      <td>2056700</td>\n",
       "      <td>3679110</td>\n",
       "      <td>0</td>\n",
       "      <td>194627</td>\n",
       "      <td>228652</td>\n",
       "      <td>...</td>\n",
       "      <td>80.2</td>\n",
       "      <td>1876120.0</td>\n",
       "      <td>64.8</td>\n",
       "      <td>4920847.0</td>\n",
       "      <td>170002.0</td>\n",
       "      <td>207105.0</td>\n",
       "      <td>605948.0</td>\n",
       "      <td>1097337.0</td>\n",
       "      <td>172768.0</td>\n",
       "      <td>67.0</td>\n",
       "    </tr>\n",
       "    <tr>\n",
       "      <th>1</th>\n",
       "      <td>05/09/2022</td>\n",
       "      <td>19</td>\n",
       "      <td>LA</td>\n",
       "      <td>8296850</td>\n",
       "      <td>325200</td>\n",
       "      <td>3394180</td>\n",
       "      <td>4577470</td>\n",
       "      <td>0</td>\n",
       "      <td>178473</td>\n",
       "      <td>211475</td>\n",
       "      <td>...</td>\n",
       "      <td>65.3</td>\n",
       "      <td>2488841.0</td>\n",
       "      <td>57.2</td>\n",
       "      <td>6261798.0</td>\n",
       "      <td>144038.0</td>\n",
       "      <td>190850.0</td>\n",
       "      <td>962252.0</td>\n",
       "      <td>1344351.0</td>\n",
       "      <td>181102.0</td>\n",
       "      <td>1136.0</td>\n",
       "    </tr>\n",
       "    <tr>\n",
       "      <th>2</th>\n",
       "      <td>05/09/2022</td>\n",
       "      <td>19</td>\n",
       "      <td>WI</td>\n",
       "      <td>11753545</td>\n",
       "      <td>452500</td>\n",
       "      <td>4409000</td>\n",
       "      <td>6892045</td>\n",
       "      <td>0</td>\n",
       "      <td>201867</td>\n",
       "      <td>235081</td>\n",
       "      <td>...</td>\n",
       "      <td>76.2</td>\n",
       "      <td>3822098.0</td>\n",
       "      <td>69.6</td>\n",
       "      <td>10334215.0</td>\n",
       "      <td>188171.0</td>\n",
       "      <td>214015.0</td>\n",
       "      <td>1338600.0</td>\n",
       "      <td>2181902.0</td>\n",
       "      <td>300650.0</td>\n",
       "      <td>946.0</td>\n",
       "    </tr>\n",
       "    <tr>\n",
       "      <th>3</th>\n",
       "      <td>05/09/2022</td>\n",
       "      <td>19</td>\n",
       "      <td>NE</td>\n",
       "      <td>4007410</td>\n",
       "      <td>150500</td>\n",
       "      <td>1405480</td>\n",
       "      <td>2451430</td>\n",
       "      <td>0</td>\n",
       "      <td>207165</td>\n",
       "      <td>247767</td>\n",
       "      <td>...</td>\n",
       "      <td>75.5</td>\n",
       "      <td>1231426.0</td>\n",
       "      <td>68.3</td>\n",
       "      <td>3223525.0</td>\n",
       "      <td>178734.0</td>\n",
       "      <td>222198.0</td>\n",
       "      <td>416495.0</td>\n",
       "      <td>724421.0</td>\n",
       "      <td>88778.0</td>\n",
       "      <td>1732.0</td>\n",
       "    </tr>\n",
       "    <tr>\n",
       "      <th>4</th>\n",
       "      <td>05/09/2022</td>\n",
       "      <td>19</td>\n",
       "      <td>OH</td>\n",
       "      <td>23378055</td>\n",
       "      <td>986300</td>\n",
       "      <td>8800240</td>\n",
       "      <td>13591515</td>\n",
       "      <td>0</td>\n",
       "      <td>199999</td>\n",
       "      <td>233764</td>\n",
       "      <td>...</td>\n",
       "      <td>67.6</td>\n",
       "      <td>6833069.0</td>\n",
       "      <td>62.1</td>\n",
       "      <td>17935233.0</td>\n",
       "      <td>163073.0</td>\n",
       "      <td>212561.0</td>\n",
       "      <td>2396695.0</td>\n",
       "      <td>3877700.0</td>\n",
       "      <td>553167.0</td>\n",
       "      <td>5507.0</td>\n",
       "    </tr>\n",
       "  </tbody>\n",
       "</table>\n",
       "<p>5 rows × 82 columns</p>\n",
       "</div>"
      ],
      "text/plain": [
       "         Date  MMWR_week Location  Distributed  Distributed_Janssen  \\\n",
       "0  05/09/2022         19       NV      5994810               259000   \n",
       "1  05/09/2022         19       LA      8296850               325200   \n",
       "2  05/09/2022         19       WI     11753545               452500   \n",
       "3  05/09/2022         19       NE      4007410               150500   \n",
       "4  05/09/2022         19       OH     23378055               986300   \n",
       "\n",
       "   Distributed_Moderna  Distributed_Pfizer  Distributed_Unk_Manuf  \\\n",
       "0              2056700             3679110                      0   \n",
       "1              3394180             4577470                      0   \n",
       "2              4409000             6892045                      0   \n",
       "3              1405480             2451430                      0   \n",
       "4              8800240            13591515                      0   \n",
       "\n",
       "   Dist_Per_100K  Distributed_Per_100k_12Plus  ...  \\\n",
       "0         194627                       228652  ...   \n",
       "1         178473                       211475  ...   \n",
       "2         201867                       235081  ...   \n",
       "3         207165                       247767  ...   \n",
       "4         199999                       233764  ...   \n",
       "\n",
       "   Administered_Dose1_Recip_5PlusPop_Pct  Series_Complete_5Plus  \\\n",
       "0                                   80.2              1876120.0   \n",
       "1                                   65.3              2488841.0   \n",
       "2                                   76.2              3822098.0   \n",
       "3                                   75.5              1231426.0   \n",
       "4                                   67.6              6833069.0   \n",
       "\n",
       "   Series_Complete_5PlusPop_Pct  Administered_5Plus  Admin_Per_100k_5Plus  \\\n",
       "0                          64.8           4920847.0              170002.0   \n",
       "1                          57.2           6261798.0              144038.0   \n",
       "2                          69.6          10334215.0              188171.0   \n",
       "3                          68.3           3223525.0              178734.0   \n",
       "4                          62.1          17935233.0              163073.0   \n",
       "\n",
       "   Distributed_Per_100k_5Plus  Series_Complete_Moderna_5Plus  \\\n",
       "0                    207105.0                       605948.0   \n",
       "1                    190850.0                       962252.0   \n",
       "2                    214015.0                      1338600.0   \n",
       "3                    222198.0                       416495.0   \n",
       "4                    212561.0                      2396695.0   \n",
       "\n",
       "   Series_Complete_Pfizer_5Plus  Series_Complete_Janssen_5Plus  \\\n",
       "0                     1097337.0                       172768.0   \n",
       "1                     1344351.0                       181102.0   \n",
       "2                     2181902.0                       300650.0   \n",
       "3                      724421.0                        88778.0   \n",
       "4                     3877700.0                       553167.0   \n",
       "\n",
       "   Series_Complete_Unk_Manuf_5Plus  \n",
       "0                             67.0  \n",
       "1                           1136.0  \n",
       "2                            946.0  \n",
       "3                           1732.0  \n",
       "4                           5507.0  \n",
       "\n",
       "[5 rows x 82 columns]"
      ]
     },
     "execution_count": 19,
     "metadata": {},
     "output_type": "execute_result"
    }
   ],
   "source": [
    "vaccinations.head()"
   ]
  },
  {
   "cell_type": "code",
   "execution_count": 20,
   "id": "a3fff51d",
   "metadata": {},
   "outputs": [],
   "source": [
    "vaccinations[\"Date\"] = pd.to_datetime(vaccinations[\"Date\"])"
   ]
  },
  {
   "cell_type": "markdown",
   "id": "8dc9f4f4",
   "metadata": {},
   "source": [
    "# Georgia"
   ]
  },
  {
   "cell_type": "code",
   "execution_count": 21,
   "id": "e5ab975f",
   "metadata": {},
   "outputs": [],
   "source": [
    "georgia_vaccines = vaccinations[vaccinations[\"Location\"].isin(['GA'])].sort_values(by = \"Date\").set_index(\"Date\")"
   ]
  },
  {
   "cell_type": "code",
   "execution_count": 23,
   "id": "d3923ba0",
   "metadata": {
    "scrolled": true
   },
   "outputs": [
    {
     "name": "stdout",
     "output_type": "stream",
     "text": [
      "Missing Values:0\n",
      "\n",
      "Invalid entries: [-22526.  -6270. -81248.]\n",
      "\n",
      "Lower Range: -69345.5, Upper Range: 116506.5\n",
      "\n",
      "Total Outliers: 25\n",
      "\n",
      "Outliers: \n",
      "[149624.0, 151573.0, 202499.0, 181800.0, 118438.0, 415861.0, 128303.0, 147257.0, 171034.0, 158050.0, 119924.0, 182634.0, 127427.0, 137336.0, 121393.0, 118749.0, 163945.0, 163643.0, 163554.0, 120121.0, 118763.0, 139521.0, 135771.0, 156133.0, 160800.0]\n",
      "\n"
     ]
    }
   ],
   "source": [
    "georgia_vaccines['Lag'] = georgia_vaccines.Administered.shift(1).fillna(0)\n",
    "georgia_vaccines['Daily Administered'] = georgia_vaccines.Administered - georgia_vaccines.Lag\n",
    "georgia_vaccines['Daily Administered'] = clean_data(georgia_vaccines['Daily Administered'])"
   ]
  },
  {
   "cell_type": "code",
   "execution_count": 25,
   "id": "1759a4d0",
   "metadata": {},
   "outputs": [
    {
     "data": {
      "text/plain": [
       "<AxesSubplot:>"
      ]
     },
     "execution_count": 25,
     "metadata": {},
     "output_type": "execute_result"
    },
    {
     "data": {
      "image/png": "[encoded data removed]",
      "text/plain": [
       "<Figure size 432x288 with 1 Axes>"
      ]
     },
     "metadata": {
      "needs_background": "light"
     },
     "output_type": "display_data"
    }
   ],
   "source": [
    "georgia_vaccines.boxplot('Daily Administered')"
   ]
  },
  {
   "cell_type": "markdown",
   "id": "a2135e9f",
   "metadata": {},
   "source": [
    "Outlier dates"
   ]
  },
  {
   "cell_type": "code",
   "execution_count": 209,
   "id": "63661f28",
   "metadata": {},
   "outputs": [
    {
     "data": {
      "text/plain": [
       "DatetimeIndex(['2021-01-22', '2021-02-19', '2021-03-20', '2021-04-07',\n",
       "               '2021-04-09', '2021-04-13', '2021-04-14', '2021-05-07',\n",
       "               '2021-05-31', '2021-06-04', '2021-06-17', '2021-06-22',\n",
       "               '2021-06-29', '2021-07-20', '2021-07-28', '2021-08-05',\n",
       "               '2021-08-19', '2021-08-25', '2021-09-01', '2021-09-08',\n",
       "               '2021-09-15', '2021-10-30', '2021-11-03', '2021-11-16',\n",
       "               '2021-11-30', '2021-12-04', '2021-12-28', '2022-01-12'],\n",
       "              dtype='datetime64[ns]', name='Date', freq=None)"
      ]
     },
     "execution_count": 209,
     "metadata": {},
     "output_type": "execute_result"
    }
   ],
   "source": [
    "georgia_vaccines['Daily Administered'][georgia_vaccines['Daily Administered'].isna()].index"
   ]
  },
  {
   "cell_type": "code",
   "execution_count": 26,
   "id": "5f5bb717",
   "metadata": {},
   "outputs": [],
   "source": [
    "georgia_vaccines = georgia_vaccines['Daily Administered']\n",
    "georgia_vaccines.dropna(inplace = True)"
   ]
  },
  {
   "cell_type": "code",
   "execution_count": null,
   "id": "c054b732",
   "metadata": {},
   "outputs": [],
   "source": [
    "georgia_vaccines.reset_index().to_csv(\"georgia_vaccinations.csv\", index = False)"
   ]
  },
  {
   "cell_type": "markdown",
   "id": "bea1ea37",
   "metadata": {},
   "source": [
    "# Indiana"
   ]
  },
  {
   "cell_type": "code",
   "execution_count": 30,
   "id": "271c6543",
   "metadata": {},
   "outputs": [],
   "source": [
    "indiana_vaccines = vaccinations[vaccinations[\"Location\"].isin(['IN'])].sort_values(by = \"Date\").set_index(\"Date\")"
   ]
  },
  {
   "cell_type": "code",
   "execution_count": 31,
   "id": "2b03fa90",
   "metadata": {},
   "outputs": [
    {
     "name": "stdout",
     "output_type": "stream",
     "text": [
      "Missing Values:0\n",
      "\n",
      "Invalid entries: []\n",
      "\n",
      "Lower Range: -24250.0, Upper Range: 57734.0\n",
      "\n",
      "Total Outliers: 17\n",
      "\n",
      "Outliers: \n",
      "[145215.0, 68118.0, 62176.0, 98243.0, 96848.0, 57954.0, 63433.0, 68471.0, 58356.0, 71096.0, 71831.0, 60735.0, 66382.0, 66406.0, 58781.0, 60419.0, 223259.0]\n",
      "\n"
     ]
    }
   ],
   "source": [
    "indiana_vaccines['Lag'] = indiana_vaccines.Administered.shift(1).fillna(0)\n",
    "indiana_vaccines['Daily Administered'] = indiana_vaccines.Administered - indiana_vaccines.Lag\n",
    "indiana_vaccines['Daily Administered'] = clean_data(indiana_vaccines['Daily Administered'])"
   ]
  },
  {
   "cell_type": "markdown",
   "id": "a4bc7227",
   "metadata": {},
   "source": [
    "Outlier dates"
   ]
  },
  {
   "cell_type": "code",
   "execution_count": 212,
   "id": "e0489c82",
   "metadata": {},
   "outputs": [
    {
     "data": {
      "text/plain": [
       "DatetimeIndex(['2021-02-13', '2021-02-19', '2021-02-24', '2021-02-25',\n",
       "               '2021-03-13', '2021-03-26', '2021-04-02', '2021-04-03',\n",
       "               '2021-04-08', '2021-04-09', '2021-04-10', '2021-04-11',\n",
       "               '2021-04-15', '2021-04-16', '2021-04-17', '2021-05-07',\n",
       "               '2021-07-03'],\n",
       "              dtype='datetime64[ns]', name='Date', freq=None)"
      ]
     },
     "execution_count": 212,
     "metadata": {},
     "output_type": "execute_result"
    }
   ],
   "source": [
    "indiana_vaccines['Daily Administered'][indiana_vaccines['Daily Administered'].isna()].index"
   ]
  },
  {
   "cell_type": "code",
   "execution_count": 32,
   "id": "8c0c17ea",
   "metadata": {},
   "outputs": [
    {
     "data": {
      "text/plain": [
       "<AxesSubplot:>"
      ]
     },
     "execution_count": 32,
     "metadata": {},
     "output_type": "execute_result"
    },
    {
     "data": {
      "image/png": "[encoded data removed]",
      "text/plain": [
       "<Figure size 432x288 with 1 Axes>"
      ]
     },
     "metadata": {
      "needs_background": "light"
     },
     "output_type": "display_data"
    }
   ],
   "source": [
    "indiana_vaccines.boxplot('Daily Administered')"
   ]
  },
  {
   "cell_type": "code",
   "execution_count": null,
   "id": "62c42552",
   "metadata": {},
   "outputs": [],
   "source": [
    "indiana_vaccines = indiana_vaccines['Daily Administered']\n",
    "indiana_vaccines.dropna(inplace = True)\n",
    "indiana_vaccines.reset_index().to_csv(\"indiana_vaccinations.csv\", index = False)"
   ]
  },
  {
   "cell_type": "markdown",
   "id": "e59a6be2",
   "metadata": {},
   "source": [
    "# Remarks\n",
    "\n",
    "For cases dataset, we found 68 and 39 total outliers for new_cases and new_deaths features for Georgia. Similarly, we found 64 and 52 outliers for Indiana. There were in total 6 negative entries in Georgia dataset,which were removed as pert of data cleaning. \n",
    "\n",
    "For Vaccines dataset, we found 25 and 17 outliers respectively for Georgia and Indiana. In total, there were 3 negative entries in Georgia dataset, which were removed. "
   ]
  }
 ],
 "metadata": {
  "kernelspec": {
   "display_name": "Python 3",
   "language": "python",
   "name": "python3"
  },
  "language_info": {
   "codemirror_mode": {
    "name": "ipython",
    "version": 3
   },
   "file_extension": ".py",
   "mimetype": "text/x-python",
   "name": "python",
   "nbconvert_exporter": "python",
   "pygments_lexer": "ipython3",
   "version": "3.8.8"
  }
 },
 "nbformat": 4,
 "nbformat_minor": 5
}
