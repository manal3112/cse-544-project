{
 "cells": [
  {
   "cell_type": "code",
   "execution_count": 136,
   "id": "1dbcfeb2",
   "metadata": {},
   "outputs": [],
   "source": [
    "import pandas as pd\n",
    "import numpy as np"
   ]
  },
  {
   "cell_type": "code",
   "execution_count": 137,
   "id": "10094fce",
   "metadata": {},
   "outputs": [],
   "source": [
    "cases = pd.read_csv(\"dataset/United_States_COVID-19_Cases_and_Deaths_by_State_over_Time.csv\")"
   ]
  },
  {
   "cell_type": "code",
   "execution_count": 138,
   "id": "75b7e3f4",
   "metadata": {},
   "outputs": [],
   "source": [
    "cases[\"submission_date\"] = pd.to_datetime(cases[\"submission_date\"])"
   ]
  },
  {
   "cell_type": "code",
   "execution_count": 139,
   "id": "ce08695b",
   "metadata": {},
   "outputs": [],
   "source": [
    "georgia_df = cases[cases[\"state\"].isin(['GA'])].sort_values(by = \"submission_date\").set_index(\"submission_date\")\n",
    "georgia_case_death = georgia_df[[\"new_case\", \"new_death\"]]"
   ]
  },
  {
   "cell_type": "code",
   "execution_count": 140,
   "id": "e450c050",
   "metadata": {},
   "outputs": [],
   "source": [
    "indiana_df = cases[cases[\"state\"].isin(['IN'])].sort_values(by = \"submission_date\").set_index(\"submission_date\")\n",
    "indiana_case_death = indiana_df[[\"new_case\", \"new_death\"]]"
   ]
  },
  {
   "cell_type": "code",
   "execution_count": 141,
   "id": "e8fb8633",
   "metadata": {},
   "outputs": [],
   "source": [
    "def tukey_range(values):\n",
    "    \n",
    "    alpha = 1.5\n",
    "    sorted_values = sorted(values)\n",
    "    \n",
    "    # Q1\n",
    "    q1_index = int(np.ceil(0.25 * len(values)))\n",
    "    q1 = sorted_values[q1_index]\n",
    "    \n",
    "    # Q2\n",
    "    q3_index = int(np.ceil(0.75 * len(values)))\n",
    "    q3 = sorted_values[q3_index]\n",
    "    \n",
    "    # IQR\n",
    "    iqr = q3 - q1\n",
    "    \n",
    "    return q1 - (alpha * iqr), q3 + (alpha * iqr)"
   ]
  },
  {
   "cell_type": "code",
   "execution_count": 142,
   "id": "b26abf82",
   "metadata": {},
   "outputs": [],
   "source": [
    "def clean_data(series):\n",
    "    \n",
    "    #Check if any NA values\n",
    "    print(\"Missing Values:{}\\n\".format(len(df[col][df[col].isna()])))\n",
    "    \n",
    "    invalid_entries = series[series < 0].values\n",
    "    print(\"Invalid entries: {}\\n\".format(invalid_entries))\n",
    "    \n",
    "    series = series[series >=0]\n",
    "    lower_limit, upper_limit = tukey_range(series.values)\n",
    "    print(\"Lower Range: {}, Upper Range: {}\\n\".format(lower_limit, upper_limit))\n",
    "    \n",
    "    outliers = list(series[series < lower_limit].values) + list(series[series > upper_limit].values)\n",
    "    print(\"Total Outliers: {}\\n\".format(len(outliers)))\n",
    "    print(\"Outliers: \\n{}\\n\".format(outliers))\n",
    "    \n",
    "    outliers_index = list(series[series < lower_limit].index) + list(series[series > upper_limit].index)\n",
    "    return series.drop(index = outliers_index)"
   ]
  },
  {
   "cell_type": "code",
   "execution_count": 143,
   "id": "4baea3ba",
   "metadata": {},
   "outputs": [
    {
     "name": "stdout",
     "output_type": "stream",
     "text": [
      "State:Georgia\n",
      "-------------------------------------------------\n",
      "-------------------------------------------------\n",
      "Feature: new_case\n",
      "----------------------------------\n",
      "Missing Values:0\n",
      "\n",
      "Invalid entries: [-5]\n",
      "\n",
      "Lower Range: -3912.5, Upper Range: 8019.5\n",
      "\n",
      "Total Outliers: 68\n",
      "\n",
      "Outliers: \n",
      "[8141, 9079, 10286, 9450, 9053, 11709, 11137, 10091, 9790, 13296, 11926, 8193, 9193, 8596, 9036, 9806, 8533, 8205, 8150, 8374, 8985, 8393, 9836, 9581, 9186, 10677, 10823, 11084, 10521, 9702, 8412, 12018, 8792, 8278, 9089, 10012, 9495, 26279, 13018, 19124, 24420, 23438, 47436, 17603, 24024, 23813, 26033, 46474, 24865, 18939, 24310, 19943, 35149, 12071, 27781, 22684, 18671, 42786, 16232, 17332, 21708, 18785, 21534, 10226, 8020, 8029, 8798, 11804]\n",
      "\n",
      "Feature: new_death\n",
      "----------------------------------\n",
      "Missing Values:0\n",
      "\n",
      "Invalid entries: [ -2  -2 -14 -91  -1  -1]\n",
      "\n",
      "Lower Range: -81.0, Upper Range: 151.0\n",
      "\n",
      "Total Outliers: 39\n",
      "\n",
      "Outliers: \n",
      "[157, 187, 172, 163, 153, 222, 196, 171, 186, 179, 161, 184, 159, 210, 208, 169, 232, 171, 195, 246, 207, 193, 156, 235, 197, 179, 182, 205, 176, 158, 180, 195, 191, 209, 158, 175, 164, 185, 163]\n",
      "\n",
      "State:Indiana\n",
      "-------------------------------------------------\n",
      "-------------------------------------------------\n",
      "Feature: new_case\n",
      "----------------------------------\n",
      "Missing Values:0\n",
      "\n",
      "Invalid entries: []\n",
      "\n",
      "Lower Range: -2842.0, Upper Range: 5750.0\n",
      "\n",
      "Total Outliers: 64\n",
      "\n",
      "Outliers: \n",
      "[6591, 8322, 6710, 6015, 7282, 6809, 6873, 6175, 5984, 6374, 6597, 8460, 7899, 7690, 6598, 5754, 6518, 7200, 7401, 5898, 6220, 6352, 5961, 6495, 6208, 6480, 6300, 6158, 7282, 6107, 5978, 6728, 5996, 7922, 6004, 12384, 11385, 10894, 20371, 7914, 11935, 31431, 8305, 12890, 15208, 14735, 37331, 11808, 15012, 16447, 15856, 36579, 11833, 16207, 16370, 17661, 35590, 9733, 12198, 17067, 19367, 6913, 6614, 6438]\n",
      "\n",
      "Feature: new_death\n",
      "----------------------------------\n",
      "Missing Values:0\n",
      "\n",
      "Invalid entries: []\n",
      "\n",
      "Lower Range: -49.5, Upper Range: 90.5\n",
      "\n",
      "Total Outliers: 52\n",
      "\n",
      "Outliers: \n",
      "[113, 103, 141, 109, 128, 96, 96, 128, 132, 143, 164, 109, 103, 110, 147, 272, 179, 453, 283, 231, 459, 93, 95, 119, 93, 92, 96, 104, 119, 170, 172, 152, 166, 182, 112, 127, 103, 115, 137, 114, 132, 128, 109, 136, 131, 111, 100, 99, 117, 108, 126, 103]\n",
      "\n"
     ]
    }
   ],
   "source": [
    "dfs = {\"Georgia\":georgia_case_death, \"Indiana\":indiana_case_death}\n",
    "res = []\n",
    "for state, df in dfs.items():\n",
    "    print(\"State:{}\".format(state))\n",
    "    print(\"-------------------------------------------------\")\n",
    "    print(\"-------------------------------------------------\")\n",
    "    s = []\n",
    "    for col in df.columns:\n",
    "        print(\"Feature: {}\".format(col))\n",
    "        print(\"----------------------------------\")\n",
    "        clean_series = clean_data(df[col])\n",
    "        # clean_series.index = df.index\n",
    "        s.append(clean_series)\n",
    "    res.append(pd.concat(s, axis = 1))\n",
    "georgia, indiana = [r.dropna(subset = [\"new_case\", \"new_death\"]) for r in res]"
   ]
  },
  {
   "cell_type": "code",
   "execution_count": 147,
   "id": "7117ae94",
   "metadata": {},
   "outputs": [],
   "source": [
    "georgia.reset_index().to_csv(\"georgia_cases_deaths.csv\", index = False)\n",
    "indiana.reset_index().to_csv(\"indiana_cases_deaths.csv\", index = False)"
   ]
  },
  {
   "cell_type": "code",
   "execution_count": null,
   "id": "be999a7c",
   "metadata": {},
   "outputs": [],
   "source": []
  }
 ],
 "metadata": {
  "kernelspec": {
   "display_name": "Python 3",
   "language": "python",
   "name": "python3"
  },
  "language_info": {
   "codemirror_mode": {
    "name": "ipython",
    "version": 3
   },
   "file_extension": ".py",
   "mimetype": "text/x-python",
   "name": "python",
   "nbconvert_exporter": "python",
   "pygments_lexer": "ipython3",
   "version": "3.8.8"
  }
 },
 "nbformat": 4,
 "nbformat_minor": 5
}
