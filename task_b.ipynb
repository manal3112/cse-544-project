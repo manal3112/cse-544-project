{
  "nbformat": 4,
  "nbformat_minor": 0,
  "metadata": {
    "colab": {
      "name": "task_b.ipynb",
      "provenance": [],
      "collapsed_sections": []
    },
    "kernelspec": {
      "name": "python3",
      "display_name": "Python 3"
    },
    "language_info": {
      "name": "python"
    }
  },
  "cells": [
    {
      "cell_type": "code",
      "execution_count": 53,
      "metadata": {
        "id": "O07TIDWJDW6P"
      },
      "outputs": [],
      "source": [
        "#import necessary libraries\n",
        "import numpy as np\n",
        "from random import random\n",
        "from random import randint\n",
        "from random import seed\n",
        "import pandas as pd\n",
        "import bisect\n",
        "from scipy.stats import poisson\n",
        "from scipy.stats import geom\n",
        "from scipy.stats import binom"
      ]
    },
    {
      "cell_type": "code",
      "source": [
        "\n",
        "georgia = pd.read_csv(\"georgia_cases_deaths.csv\")\n",
        "indiana = pd.read_csv(\"indiana_cases_deaths.csv\")\n",
        "                           \n",
        "georgia_cases= georgia['new_case'].to_numpy()\n",
        "georgia_deaths= georgia['new_death'].to_numpy()\n",
        "\n",
        "indiana_cases= indiana['new_case'].astype(float).to_numpy()\n",
        "indiana_deaths= indiana['new_death'].to_numpy()\n"
      ],
      "metadata": {
        "id": "8p8vOvtYEC4C"
      },
      "execution_count": 54,
      "outputs": []
    },
    {
      "cell_type": "code",
      "source": [
        "#Data for deaths and cases for each of the states for Oct21 and Nov21 and Dec21\n",
        "\n",
        "georgia_deaths_oct = georgia_deaths[557:580]   \n",
        "georgia_deaths_nov = georgia_deaths[581:609]\n",
        "georgia_deaths_dec = georgia_deaths[609:632] \n",
        "georgia_deaths_oct_dec = georgia_deaths[557:632] \n",
        "\n",
        "georgia_cases_oct = georgia_cases[557:580] \n",
        "georgia_cases_nov = georgia_cases[581:609]\n",
        "georgia_cases_dec = georgia_cases[609:632]\n",
        "georgia_cases_oct_dec = georgia_cases[557:632]\n",
        "\n",
        "indiana_deaths_oct = indiana_deaths[570:600]   \n",
        "indiana_deaths_nov = indiana_deaths[601:626]\n",
        "indiana_deaths_dec = indiana_deaths[627:639] \n",
        "indiana_deaths_oct_dec = indiana_deaths[570:639] \n",
        "\n",
        "indiana_cases_oct = indiana_cases[570:600] \n",
        "indiana_cases_nov = indiana_cases[601:626]\n",
        "indiana_cases_dec = indiana_cases[627:639]\n",
        "indiana_cases_oct_dec = indiana_cases[570:639]"
      ],
      "metadata": {
        "id": "DQyTkGvPHC96"
      },
      "execution_count": 55,
      "outputs": []
    },
    {
      "cell_type": "code",
      "source": [
        "def MME_poisson(data):\n",
        "  # Computing the means of sample1 and sample2\n",
        "  avg = np.mean(data)\n",
        "  mu = avg\n",
        "  print(\"For poisson\")\n",
        "  print(\"mu = \" + str(mu))\n",
        "  return mu\n",
        "\n",
        "def MME_geometric(data):\n",
        "  avg = np.mean(data)\n",
        "  avg_1 = 1/avg\n",
        "  p = avg_1\n",
        "  print(\"For geometric\")\n",
        "  print(\"p = \" + str(p))\n",
        "  return p\n",
        "\n",
        "def MME_binomial(data):\n",
        "  avg = np.mean(data)\n",
        "  Sx = np.var(data, ddof=1)\n",
        "  n = (avg/(1-(Sx/avg)))\n",
        "  p = avg/n\n",
        "  print(\"For binomial\")\n",
        "  print(\"p = \" + str(p))\n",
        "  print(\"n = \" + str(n))\n",
        "  return [n, p]\n",
        "\n",
        "print(\"Georgia Deaths\")\n",
        "MME_poisson(georgia_deaths_oct_dec)\n",
        "MME_geometric(georgia_deaths_oct_dec)\n",
        "MME_binomial(georgia_deaths_oct_dec)\n",
        "\n",
        "print(\"Indiana Deaths\")\n",
        "MME_poisson(georgia_cases_oct_dec)\n",
        "MME_geometric(georgia_cases_oct_dec)\n",
        "MME_binomial(georgia_cases_oct_dec)\n"
      ],
      "metadata": {
        "colab": {
          "base_uri": "https://localhost:8080/"
        },
        "id": "Y7YweTngLLs3",
        "outputId": "132db2f2-a4ef-4eb6-8b02-5a67fbd2f9f9"
      },
      "execution_count": 56,
      "outputs": [
        {
          "output_type": "stream",
          "name": "stdout",
          "text": [
            "Georgia Deaths\n",
            "For poisson\n",
            "mu = 47.54666666666667\n",
            "For geometric\n",
            "p = 0.021031968592260235\n",
            "For binomial\n",
            "p = -37.88600294068607\n",
            "n = -1.2549929519116922\n",
            "Indiana Deaths\n",
            "For poisson\n",
            "mu = 1404.9733333333334\n",
            "For geometric\n",
            "p = 0.0007117572812769874\n",
            "For binomial\n",
            "p = -1192.9284598008464\n",
            "n = -1.1777515422575187\n"
          ]
        },
        {
          "output_type": "execute_result",
          "data": {
            "text/plain": [
              "[-1.1777515422575187, -1192.9284598008464]"
            ]
          },
          "metadata": {},
          "execution_count": 56
        }
      ]
    },
    {
      "cell_type": "code",
      "source": [
        "\n",
        "def KS_test_1sample(D , D1, distribution, datatype, state):\n",
        "  print(\"KS 1 sample test for \" + datatype)\n",
        "  min_x = min(D1)\n",
        "  max_x = max(D1)\n",
        "  total_elements = len(D1)\n",
        "  D1.sort()\n",
        "  mu = None\n",
        "  p = None\n",
        "  n = None\n",
        "  D1dict = dict()\n",
        "  max_diff = 0\n",
        "  for ele in D1:\n",
        "    x = int(ele)\n",
        "    if x not in D1dict:\n",
        "      D1dict[x] = 1\n",
        "    else:\n",
        "      D1dict[x] += 1\n",
        "  # print(D1dict)\n",
        "  prev_ecdf = 0\n",
        "  curr_ecdf = 0\n",
        "  curr_sum = 0 \n",
        "  for key in D1dict:\n",
        "    curr_sum += D1dict[key]\n",
        "    curr_ecdf = curr_sum/total_elements\n",
        "    if distribution == \"poisson\":\n",
        "      if mu is None:\n",
        "        mu = MME_poisson(D)\n",
        "      cdf = poisson.cdf(key, mu)\n",
        "    elif distribution == \"geometric\":\n",
        "      if p is None:\n",
        "        p = MME_geometric(D)\n",
        "      cdf = poisson.cdf(key, p)\n",
        "    elif distribution == \"binomial\":\n",
        "      if n is None or p is None:\n",
        "        ret = MME_binomial(D)\n",
        "        n = ret[0]\n",
        "        p = ret[1]\n",
        "      cdf = binom.cdf(key, n, p)\n",
        "    else:\n",
        "      print(\"Invalid distribution\")\n",
        "      return None\n",
        "    left = abs(curr_ecdf - cdf)\n",
        "    right = abs(prev_ecdf - cdf)\n",
        "    prev_ecdf = curr_ecdf\n",
        "    max_diff= max(max_diff, max(left, right))\n",
        "    # print(\"ecdf = \" + str(curr_ecdf) + \":: cdf = \" + str(cdf))\n",
        "  print(\"p value = \" + str(max_diff))\n",
        "  if max_diff > 0.05:\n",
        "    print(\"Rejecting Null hypothesis i.e :: Distribution of covid \" + datatype + \" for the state \" + state + \" is not \" + distribution)\n",
        "  else:\n",
        "    print(\"Accepting Null hypothesis i.e :: Distribution of covid \" + datatype + \" for the state \" + state + \" is indeed \" + distribution)\n",
        "\n",
        "\n",
        "# KS_test_1sample(georgia_deaths_oct_dec, georgia_deaths_oct_dec, \"poisson\", \"deaths\", \"georgia\")\n",
        "# KS_test_1sample(georgia_deaths_oct_dec, georgia_deaths_oct_dec, \"geometric\", \"deaths\", \"georgia\")\n",
        "# KS_test_1sample(georgia_deaths_oct_dec, georgia_deaths_oct_dec, \"binomial\", \"deaths\", \"georgia\")\n",
        "\n",
        "# KS_test_1sample(georgia_deaths_oct_dec, georgia_cases_oct_dec, \"poisson\", \"cases\", \"georgia\")\n",
        "# KS_test_1sample(georgia_deaths_oct_dec, georgia_cases_oct_dec, \"geometric\", \"cases\", \"georgia\")\n",
        "# KS_test_1sample(georgia_deaths_oct_dec, georgia_cases_oct_dec, \"binomial\", \"cases\", \"georgia\")\n",
        "\n",
        "# KS_test_1sample(indiana_deaths_oct_dec, indiana_deaths_oct_dec, \"poisson\", \"deaths\", \"indiana\")\n",
        "# KS_test_1sample(indiana_deaths_oct_dec, indiana_deaths_oct_dec, \"geometric\", \"deaths\", \"indiana\")\n",
        "# KS_test_1sample(indiana_deaths_oct_dec, indiana_deaths_oct_dec, \"binomial\", \"deaths\", \"indiana\")\n",
        "\n",
        "# KS_test_1sample(indiana_deaths_oct_dec, indiana_cases_oct_dec, \"poisson\", \"cases\", \"indiana\")\n",
        "# KS_test_1sample(indiana_deaths_oct_dec, indiana_cases_oct_dec, \"geometric\", \"cases\", \"indiana\")\n",
        "# KS_test_1sample(indiana_deaths_oct_dec, indiana_cases_oct_dec, \"binomial\", \"cases\", \"indiana\")\n",
        "\n",
        "KS_test_1sample(georgia_deaths_oct_dec, indiana_deaths_oct_dec, \"poisson\", \"deaths\", \"indiana\")\n",
        "KS_test_1sample(georgia_deaths_oct_dec, indiana_deaths_oct_dec, \"geometric\", \"deaths\", \"indiana\")\n",
        "KS_test_1sample(georgia_deaths_oct_dec, indiana_deaths_oct_dec, \"binomial\", \"deaths\", \"indiana\")\n",
        "\n",
        "KS_test_1sample(georgia_deaths_oct_dec, indiana_cases_oct_dec, \"poisson\", \"cases\", \"indiana\")\n",
        "KS_test_1sample(georgia_deaths_oct_dec, indiana_cases_oct_dec, \"geometric\", \"cases\", \"indiana\")\n",
        "KS_test_1sample(georgia_deaths_oct_dec, indiana_cases_oct_dec, \"binomial\", \"cases\", \"indiana\")\n",
        "  \n"
      ],
      "metadata": {
        "id": "QYAh7F9ktvRH",
        "colab": {
          "base_uri": "https://localhost:8080/"
        },
        "outputId": "7263b9d4-3c2a-494b-9599-780edcb21024"
      },
      "execution_count": 57,
      "outputs": [
        {
          "output_type": "stream",
          "name": "stdout",
          "text": [
            "KS 1 sample test for deaths\n",
            "For poisson\n",
            "mu = 47.54666666666667\n",
            "p value = 0.5919695158424709\n",
            "Rejecting Null hypothesis i.e :: Distribution of covid deaths for the state indiana is not poisson\n",
            "KS 1 sample test for deaths\n",
            "For geometric\n",
            "p = 0.021031968592260235\n",
            "p value = 0.9791876608180189\n",
            "Rejecting Null hypothesis i.e :: Distribution of covid deaths for the state indiana is not geometric\n",
            "KS 1 sample test for deaths\n",
            "For binomial\n",
            "p = -37.88600294068607\n",
            "n = -1.2549929519116922\n",
            "p value = 1.0\n",
            "Rejecting Null hypothesis i.e :: Distribution of covid deaths for the state indiana is not binomial\n",
            "KS 1 sample test for cases\n",
            "For poisson\n",
            "mu = 47.54666666666667\n",
            "p value = 0.782608695652174\n",
            "Rejecting Null hypothesis i.e :: Distribution of covid cases for the state indiana is not poisson\n",
            "KS 1 sample test for cases\n",
            "For geometric\n",
            "p = 0.021031968592260235\n",
            "p value = 0.9791876608180189\n",
            "Rejecting Null hypothesis i.e :: Distribution of covid cases for the state indiana is not geometric\n",
            "KS 1 sample test for cases\n",
            "For binomial\n",
            "p = -37.88600294068607\n",
            "n = -1.2549929519116922\n",
            "p value = 1.0\n",
            "Rejecting Null hypothesis i.e :: Distribution of covid cases for the state indiana is not binomial\n"
          ]
        }
      ]
    },
    {
      "cell_type": "code",
      "source": [
        "def KS_test_2sample(D1 , D2, datatype):\n",
        "  print(\"KS 2 sample test for \" + datatype)\n",
        "  min_x_D1 = min(D1)\n",
        "  max_x_D1 = max(D1)\n",
        "  total_elements_D1 = len(D1)\n",
        "  D1.sort()\n",
        "  D1dict = dict()\n",
        "  max_diff = 0\n",
        "  for ele in D1:\n",
        "    x = int(ele)\n",
        "    if x not in D1dict:\n",
        "      D1dict[x] = 1\n",
        "    else:\n",
        "      D1dict[x] += 1\n",
        "  # print(D1dict)\n",
        "  min_x_D2 = min(D2)\n",
        "  max_x_D2 = max(D2)\n",
        "  total_elements_D2 = len(D2)\n",
        "  D2.sort()\n",
        "  D2dict = dict()\n",
        "  for ele in D2:\n",
        "    x = int(ele)\n",
        "    if x not in D2dict:\n",
        "      D2dict[x] = 1\n",
        "    else:\n",
        "      D2dict[x] += 1\n",
        "  # print(D2dict)\n",
        "  curr_sum = 0\n",
        "  for key in D1dict:\n",
        "    curr_sum += D1dict[key]\n",
        "    D1dict[key] = curr_sum/total_elements_D1\n",
        "  \n",
        "  curr_sum = 0\n",
        "  for key in D2dict:\n",
        "    curr_sum += D2dict[key]\n",
        "    D2dict[key] = curr_sum/total_elements_D2\n",
        "  \n",
        "  list1 = list(D1dict.keys())\n",
        "  rev_list1 = list1[::-1]\n",
        "  list2 = list(D2dict.keys())\n",
        "  rev_list2 = list2[::-1]\n",
        "  print(list1)\n",
        "  print(list2)\n",
        "  for key1 in D1dict:\n",
        "    left_key2 = bisect.bisect_left(list2, key1)\n",
        "    right_key2 = bisect.bisect_left(list2, key1)\n",
        "    left_key1 = bisect.bisect_left(list1, key1)\n",
        "    right_key1 = bisect.bisect_left(list1, key1)\n",
        "    # print(\"For list 2 :: LK = \" + str(list2[left_key2 - 1]) + \":\" + \"RK = \" + str(list2[right_key2]) + \":\" + \"K = \" + str(key1) + \":\")\n",
        "    # print(\"For list 1 :: LK = \" + str(list1[left_key1 - 1]) + \":\" + \"RK = \" + str(list1[right_key1]) + \":\" + \"K = \" + str(key1) + \":\")\n",
        "    left = abs(D2dict[list2[left_key2 - 1]] - D1dict[list1[left_key1 - 1]])\n",
        "    right = abs(D2dict[list2[right_key2]] - D1dict[list1[right_key1]])\n",
        "    max_diff = max(max_diff, max(left, right))\n",
        "\n",
        "  print(\"p value = \" + str(max_diff))\n",
        "  if max_diff > 0.05:\n",
        "    print(\"Rejecting Null hypothesis i.e :: Distribution of covid \" + datatype + \" is not same for both states\")\n",
        "  else:\n",
        "    print(\"Accepting Null hypothesis i.e :: Distribution of covid \" + datatype + \"is indeed same for both states\")\n",
        "\n",
        "# KS_test_2sample(indiana_cases_oct_dec , georgia_cases_oct_dec, \"cases\")\n",
        "KS_test_2sample(indiana_deaths_oct_dec , georgia_deaths_oct_dec, \"deaths\")"
      ],
      "metadata": {
        "colab": {
          "base_uri": "https://localhost:8080/"
        },
        "id": "W5L1tvnRii0i",
        "outputId": "e21fd362-972f-45fa-d634-af833f31273f"
      },
      "execution_count": 58,
      "outputs": [
        {
          "output_type": "stream",
          "name": "stdout",
          "text": [
            "KS 2 sample test for deaths\n",
            "[0, 17, 18, 19, 20, 22, 27, 28, 29, 30, 31, 32, 33, 41, 42, 44, 45, 47, 48, 50, 52, 53, 54, 57, 58, 60, 61, 62, 64, 65, 71, 77, 79, 80, 84, 88]\n",
            "[0, 10, 19, 22, 25, 30, 31, 33, 36, 37, 39, 41, 43, 45, 47, 52, 54, 58, 60, 61, 62, 66, 67, 68, 69, 70, 74, 83, 89, 90, 92, 98, 102, 109, 110, 112, 113, 120, 126, 131, 136, 138]\n",
            "p value = 0.24637681159420288\n",
            "Rejecting Null hypothesis i.e :: Distribution of covid deaths is not same for both states\n"
          ]
        }
      ]
    },
    {
      "cell_type": "code",
      "source": [
        "#Permustation test\n",
        "def generate_perm(D1, D2):\n",
        "  len1 = len(D1)\n",
        "  len2 = len(D2)\n",
        "\n",
        "  D = D1\n",
        "  D = np.append(D1, D2)\n",
        "  # print(D)\n",
        "\n",
        "  length = len(D)\n",
        "  last = length - 1\n",
        "  for i in range(length):\n",
        "    rand = randint(0, length - i - 1)\n",
        "    # print(rand)\n",
        "    D[[rand, length - i - 1]] = D[[length - i - 1, rand]]\n",
        "  # print(D)\n",
        "  D = np.split(D, 2)\n",
        "  D1 = D[0]\n",
        "  D2 = D[1]\n",
        "  return [D1, D2]\n",
        "  \n",
        "\n",
        "def perm_test(D1, D2, datatype):\n",
        "  print(\"Permutation test for \" + datatype)\n",
        "  len1 = len(D1)\n",
        "  len2 = len(D2)\n",
        "  og_mean1 = np.mean(D1)\n",
        "  og_mean2 = np.mean(D2)\n",
        "  og_mean_diff = abs(og_mean1 - og_mean2)\n",
        "  perm_D1 = []\n",
        "  perm_D2 = []\n",
        "  count = 0\n",
        "  for i in range(1000):\n",
        "    D = generate_perm(D1, D2)\n",
        "    perm_D1 = D[0]\n",
        "    perm_D2 = D[1]\n",
        "    # print(perm_D1)\n",
        "    # print(perm_D2)\n",
        "    mean1 = np.mean(perm_D1)\n",
        "    mean2 = np.mean(perm_D2)\n",
        "    mean_diff = abs(mean1 - mean2)\n",
        "    if mean_diff > og_mean_diff:\n",
        "      count+=1\n",
        "  \n",
        "  p_value = (count/1000)\n",
        "  if p_value < 0.05:\n",
        "    print(\"Rejeting Null Hypothesis i.e Distribution of \" + datatype + \" of two states is not same\")\n",
        "  else:\n",
        "    print(\"Failed to Reject Null Hypothesis i.e Distribution of \" + datatype + \" of two states is indeed same\")\n",
        "  \n",
        "\n",
        "perm_test(indiana_deaths_oct_dec , georgia_deaths_oct_dec, \"deaths\")\n",
        "perm_test(indiana_cases_oct_dec , georgia_cases_oct_dec, \"cases\")\n",
        "\n",
        "\n",
        "\n"
      ],
      "metadata": {
        "id": "l5b7hALe0OLF",
        "colab": {
          "base_uri": "https://localhost:8080/"
        },
        "outputId": "05550f88-9933-4a5c-d828-4be6db4b3157"
      },
      "execution_count": 59,
      "outputs": [
        {
          "output_type": "stream",
          "name": "stdout",
          "text": [
            "Permutation test for deaths\n",
            "Rejeting Null Hypothesis i.e Distribution of deaths of two states is not same\n",
            "Permutation test for cases\n",
            "Rejeting Null Hypothesis i.e Distribution of cases of two states is not same\n"
          ]
        }
      ]
    },
    {
      "cell_type": "code",
      "source": [
        ""
      ],
      "metadata": {
        "id": "yeqx-f6MHUim"
      },
      "execution_count": 42,
      "outputs": []
    }
  ]
}