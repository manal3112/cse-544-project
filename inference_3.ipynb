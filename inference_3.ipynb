{
 "cells": [
  {
   "cell_type": "markdown",
   "id": "4c3500c8",
   "metadata": {},
   "source": [
    "# The Question\n",
    "In this piece, we make an effort to study if the introduction of vaccines cause any change in crimes? \n",
    "The reasons for why this maybe a useful inference: \n",
    "1. Vaccines could've been a very limited resource initially and people would want to make sure they get it as soon\n",
    "no matter what.\n",
    "2. Anti-vaxxers!!!\n",
    "\n",
    "\n",
    "# Null Hypothesis Ho\n",
    "### H0: The start of COVID vaccinations didn't cause any \"change\" in number of crime incidents.\n",
    "\n",
    "To study this, we compute average crime incidents reported per day in the ~15 days interval before and after vaccinations went live. We use paired Wald's test as the statistic to measure the significance."
   ]
  },
  {
   "cell_type": "code",
   "execution_count": 43,
   "id": "c2aff556",
   "metadata": {},
   "outputs": [],
   "source": [
    "import datetime\n",
    "\n",
    "import numpy as np\n",
    "import pandas as pd\n",
    "from matplotlib import pyplot as plt\n",
    "\n",
    "from scipy.stats import norm"
   ]
  },
  {
   "cell_type": "markdown",
   "id": "7a66874c",
   "metadata": {},
   "source": [
    "# Exploratory Data Analysis\n",
    "But first let's exlore the data a bit."
   ]
  },
  {
   "cell_type": "code",
   "execution_count": 2,
   "id": "d5ce31d5",
   "metadata": {},
   "outputs": [],
   "source": [
    "states = ['indiana', 'georgia']\n",
    "dfs = []\n",
    "for state in states:\n",
    "    df = pd.read_csv(f'./{state}_vaccinations.csv')\n",
    "    df['Date'] = pd.to_datetime(df['Date'])\n",
    "    dfs.append(df)\n",
    "in_vacc, georgia_vacc = dfs[:]"
   ]
  },
  {
   "cell_type": "code",
   "execution_count": 3,
   "id": "f6528cb0",
   "metadata": {},
   "outputs": [
    {
     "data": {
      "text/html": [
       "<div>\n",
       "<style scoped>\n",
       "    .dataframe tbody tr th:only-of-type {\n",
       "        vertical-align: middle;\n",
       "    }\n",
       "\n",
       "    .dataframe tbody tr th {\n",
       "        vertical-align: top;\n",
       "    }\n",
       "\n",
       "    .dataframe thead th {\n",
       "        text-align: right;\n",
       "    }\n",
       "</style>\n",
       "<table border=\"1\" class=\"dataframe\">\n",
       "  <thead>\n",
       "    <tr style=\"text-align: right;\">\n",
       "      <th></th>\n",
       "      <th>Date</th>\n",
       "      <th>Daily Administered</th>\n",
       "    </tr>\n",
       "  </thead>\n",
       "  <tbody>\n",
       "    <tr>\n",
       "      <th>0</th>\n",
       "      <td>2020-12-14</td>\n",
       "      <td>0.0</td>\n",
       "    </tr>\n",
       "    <tr>\n",
       "      <th>1</th>\n",
       "      <td>2020-12-15</td>\n",
       "      <td>0.0</td>\n",
       "    </tr>\n",
       "    <tr>\n",
       "      <th>2</th>\n",
       "      <td>2020-12-16</td>\n",
       "      <td>0.0</td>\n",
       "    </tr>\n",
       "    <tr>\n",
       "      <th>3</th>\n",
       "      <td>2020-12-17</td>\n",
       "      <td>686.0</td>\n",
       "    </tr>\n",
       "    <tr>\n",
       "      <th>4</th>\n",
       "      <td>2020-12-18</td>\n",
       "      <td>2092.0</td>\n",
       "    </tr>\n",
       "  </tbody>\n",
       "</table>\n",
       "</div>"
      ],
      "text/plain": [
       "        Date  Daily Administered\n",
       "0 2020-12-14                 0.0\n",
       "1 2020-12-15                 0.0\n",
       "2 2020-12-16                 0.0\n",
       "3 2020-12-17               686.0\n",
       "4 2020-12-18              2092.0"
      ]
     },
     "execution_count": 3,
     "metadata": {},
     "output_type": "execute_result"
    }
   ],
   "source": [
    "in_vacc.head()"
   ]
  },
  {
   "cell_type": "code",
   "execution_count": 4,
   "id": "bb5e62fb",
   "metadata": {},
   "outputs": [
    {
     "data": {
      "text/html": [
       "<div>\n",
       "<style scoped>\n",
       "    .dataframe tbody tr th:only-of-type {\n",
       "        vertical-align: middle;\n",
       "    }\n",
       "\n",
       "    .dataframe tbody tr th {\n",
       "        vertical-align: top;\n",
       "    }\n",
       "\n",
       "    .dataframe thead th {\n",
       "        text-align: right;\n",
       "    }\n",
       "</style>\n",
       "<table border=\"1\" class=\"dataframe\">\n",
       "  <thead>\n",
       "    <tr style=\"text-align: right;\">\n",
       "      <th></th>\n",
       "      <th>Date</th>\n",
       "      <th>Daily Administered</th>\n",
       "    </tr>\n",
       "  </thead>\n",
       "  <tbody>\n",
       "    <tr>\n",
       "      <th>490</th>\n",
       "      <td>2022-05-05</td>\n",
       "      <td>6426.0</td>\n",
       "    </tr>\n",
       "    <tr>\n",
       "      <th>491</th>\n",
       "      <td>2022-05-06</td>\n",
       "      <td>6021.0</td>\n",
       "    </tr>\n",
       "    <tr>\n",
       "      <th>492</th>\n",
       "      <td>2022-05-07</td>\n",
       "      <td>6047.0</td>\n",
       "    </tr>\n",
       "    <tr>\n",
       "      <th>493</th>\n",
       "      <td>2022-05-08</td>\n",
       "      <td>6831.0</td>\n",
       "    </tr>\n",
       "    <tr>\n",
       "      <th>494</th>\n",
       "      <td>2022-05-09</td>\n",
       "      <td>3613.0</td>\n",
       "    </tr>\n",
       "  </tbody>\n",
       "</table>\n",
       "</div>"
      ],
      "text/plain": [
       "          Date  Daily Administered\n",
       "490 2022-05-05              6426.0\n",
       "491 2022-05-06              6021.0\n",
       "492 2022-05-07              6047.0\n",
       "493 2022-05-08              6831.0\n",
       "494 2022-05-09              3613.0"
      ]
     },
     "execution_count": 4,
     "metadata": {},
     "output_type": "execute_result"
    }
   ],
   "source": [
    "in_vacc.tail()"
   ]
  },
  {
   "cell_type": "code",
   "execution_count": 5,
   "id": "37b928b2",
   "metadata": {},
   "outputs": [
    {
     "data": {
      "text/html": [
       "<div>\n",
       "<style scoped>\n",
       "    .dataframe tbody tr th:only-of-type {\n",
       "        vertical-align: middle;\n",
       "    }\n",
       "\n",
       "    .dataframe tbody tr th {\n",
       "        vertical-align: top;\n",
       "    }\n",
       "\n",
       "    .dataframe thead th {\n",
       "        text-align: right;\n",
       "    }\n",
       "</style>\n",
       "<table border=\"1\" class=\"dataframe\">\n",
       "  <thead>\n",
       "    <tr style=\"text-align: right;\">\n",
       "      <th></th>\n",
       "      <th>Date</th>\n",
       "      <th>Daily Administered</th>\n",
       "    </tr>\n",
       "  </thead>\n",
       "  <tbody>\n",
       "    <tr>\n",
       "      <th>0</th>\n",
       "      <td>2020-12-14</td>\n",
       "      <td>0.0</td>\n",
       "    </tr>\n",
       "    <tr>\n",
       "      <th>1</th>\n",
       "      <td>2020-12-15</td>\n",
       "      <td>0.0</td>\n",
       "    </tr>\n",
       "    <tr>\n",
       "      <th>2</th>\n",
       "      <td>2020-12-16</td>\n",
       "      <td>0.0</td>\n",
       "    </tr>\n",
       "    <tr>\n",
       "      <th>3</th>\n",
       "      <td>2020-12-17</td>\n",
       "      <td>0.0</td>\n",
       "    </tr>\n",
       "    <tr>\n",
       "      <th>4</th>\n",
       "      <td>2020-12-18</td>\n",
       "      <td>198.0</td>\n",
       "    </tr>\n",
       "  </tbody>\n",
       "</table>\n",
       "</div>"
      ],
      "text/plain": [
       "        Date  Daily Administered\n",
       "0 2020-12-14                 0.0\n",
       "1 2020-12-15                 0.0\n",
       "2 2020-12-16                 0.0\n",
       "3 2020-12-17                 0.0\n",
       "4 2020-12-18               198.0"
      ]
     },
     "execution_count": 5,
     "metadata": {},
     "output_type": "execute_result"
    }
   ],
   "source": [
    "georgia_vacc.head()"
   ]
  },
  {
   "cell_type": "code",
   "execution_count": 6,
   "id": "1f4d0cb8",
   "metadata": {},
   "outputs": [
    {
     "data": {
      "text/html": [
       "<div>\n",
       "<style scoped>\n",
       "    .dataframe tbody tr th:only-of-type {\n",
       "        vertical-align: middle;\n",
       "    }\n",
       "\n",
       "    .dataframe tbody tr th {\n",
       "        vertical-align: top;\n",
       "    }\n",
       "\n",
       "    .dataframe thead th {\n",
       "        text-align: right;\n",
       "    }\n",
       "</style>\n",
       "<table border=\"1\" class=\"dataframe\">\n",
       "  <thead>\n",
       "    <tr style=\"text-align: right;\">\n",
       "      <th></th>\n",
       "      <th>Date</th>\n",
       "      <th>Daily Administered</th>\n",
       "    </tr>\n",
       "  </thead>\n",
       "  <tbody>\n",
       "    <tr>\n",
       "      <th>479</th>\n",
       "      <td>2022-05-05</td>\n",
       "      <td>8753.0</td>\n",
       "    </tr>\n",
       "    <tr>\n",
       "      <th>480</th>\n",
       "      <td>2022-05-06</td>\n",
       "      <td>11189.0</td>\n",
       "    </tr>\n",
       "    <tr>\n",
       "      <th>481</th>\n",
       "      <td>2022-05-07</td>\n",
       "      <td>9993.0</td>\n",
       "    </tr>\n",
       "    <tr>\n",
       "      <th>482</th>\n",
       "      <td>2022-05-08</td>\n",
       "      <td>171.0</td>\n",
       "    </tr>\n",
       "    <tr>\n",
       "      <th>483</th>\n",
       "      <td>2022-05-09</td>\n",
       "      <td>1.0</td>\n",
       "    </tr>\n",
       "  </tbody>\n",
       "</table>\n",
       "</div>"
      ],
      "text/plain": [
       "          Date  Daily Administered\n",
       "479 2022-05-05              8753.0\n",
       "480 2022-05-06             11189.0\n",
       "481 2022-05-07              9993.0\n",
       "482 2022-05-08               171.0\n",
       "483 2022-05-09                 1.0"
      ]
     },
     "execution_count": 6,
     "metadata": {},
     "output_type": "execute_result"
    }
   ],
   "source": [
    "georgia_vacc.tail()"
   ]
  },
  {
   "cell_type": "markdown",
   "id": "ba3a973b",
   "metadata": {},
   "source": [
    "For both datasets, the record starts from '2020-12-14' and end on '2022-05-09'"
   ]
  },
  {
   "cell_type": "code",
   "execution_count": 7,
   "id": "29dff65b",
   "metadata": {},
   "outputs": [
    {
     "data": {
      "text/plain": [
       "<AxesSubplot:>"
      ]
     },
     "execution_count": 7,
     "metadata": {},
     "output_type": "execute_result"
    },
    {
     "data": {
      "image/png": "[encoded data removed]",
      "text/plain": [
       "<Figure size 432x288 with 1 Axes>"
      ]
     },
     "metadata": {
      "needs_background": "light"
     },
     "output_type": "display_data"
    }
   ],
   "source": [
    "in_vacc['Daily Administered'].plot()"
   ]
  },
  {
   "cell_type": "code",
   "execution_count": 8,
   "id": "5d31ac5e",
   "metadata": {},
   "outputs": [
    {
     "data": {
      "text/plain": [
       "<AxesSubplot:>"
      ]
     },
     "execution_count": 8,
     "metadata": {},
     "output_type": "execute_result"
    },
    {
     "data": {
      "image/png": "[encoded data removed]",
      "text/plain": [
       "<Figure size 432x288 with 1 Axes>"
      ]
     },
     "metadata": {
      "needs_background": "light"
     },
     "output_type": "display_data"
    }
   ],
   "source": [
    "georgia_vacc['Daily Administered'].plot()"
   ]
  },
  {
   "cell_type": "markdown",
   "id": "53fe13f1",
   "metadata": {},
   "source": [
    "## Slice vaccination data\n",
    "Our crime incident dataset has information only until Dec 2020 so we slice the vaccine data until that date."
   ]
  },
  {
   "cell_type": "code",
   "execution_count": 9,
   "id": "afa2f4e9",
   "metadata": {},
   "outputs": [],
   "source": [
    "in_vacc = in_vacc[in_vacc['Date'] < '2021-01-01']\n",
    "georgia_vacc = georgia_vacc[georgia_vacc['Date'] < '2021-01-01']"
   ]
  },
  {
   "cell_type": "code",
   "execution_count": 10,
   "id": "30621109",
   "metadata": {},
   "outputs": [
    {
     "data": {
      "text/plain": [
       "[<matplotlib.lines.Line2D at 0x7f27ba8a3f70>]"
      ]
     },
     "execution_count": 10,
     "metadata": {},
     "output_type": "execute_result"
    },
    {
     "data": {
      "image/png": "[encoded data removed]",
      "text/plain": [
       "<Figure size 864x360 with 2 Axes>"
      ]
     },
     "metadata": {
      "needs_background": "light"
     },
     "output_type": "display_data"
    }
   ],
   "source": [
    "fig, ax = plt.subplots(nrows=1, ncols=2, figsize=(12, 5))\n",
    "\n",
    "ax[0].plot(in_vacc['Date'].index, in_vacc['Daily Administered'])\n",
    "ax[1].plot(georgia_vacc['Date'].index, georgia_vacc['Daily Administered'])"
   ]
  },
  {
   "cell_type": "markdown",
   "id": "62e61ad6",
   "metadata": {},
   "source": [
    "We would like to see if people started having crazy thoughts about vaccines. And if their crazy thoughts made them commit petty crimes."
   ]
  },
  {
   "cell_type": "markdown",
   "id": "d73e3569",
   "metadata": {},
   "source": [
    "# Indiana: Crime Incidents Before and After Vaccinations"
   ]
  },
  {
   "cell_type": "markdown",
   "id": "d54ab572",
   "metadata": {},
   "source": [
    "Since the crime \"incident\" dataset is only available between 15th Dec 2020 and 31st Dec 2020, and vaccinations start on 14th Dec 2020, we analyze the difference in crime 15 days before and 15 days after vaccinations started."
   ]
  },
  {
   "cell_type": "code",
   "execution_count": 12,
   "id": "ec44ea53",
   "metadata": {},
   "outputs": [],
   "source": [
    "before_vacc_start = '2020-12-01'\n",
    "before_vacc_end = '2020-12-13'\n",
    "\n",
    "after_vacc_start = '2020-12-14'\n",
    "after_vacc_end = '2020-12-31'"
   ]
  },
  {
   "cell_type": "code",
   "execution_count": 13,
   "id": "f4c591c8",
   "metadata": {},
   "outputs": [],
   "source": [
    "# get incident count\n",
    "indiana_crime_incidents = \"dataset/IN/NIBRS_incident.csv\"\n",
    "ic_df = pd.read_csv(indiana_crime_incidents)\n",
    "ic_df['INCIDENT_DATE'] = pd.to_datetime(ic_df['INCIDENT_DATE'])\n",
    "ic_df = ic_df.sort_values(by = ['INCIDENT_DATE'])\n",
    "\n",
    "ic_df[\"INCIDENT_COUNT\"] = 1"
   ]
  },
  {
   "cell_type": "markdown",
   "id": "9e270786",
   "metadata": {},
   "source": [
    "### Compute before stats"
   ]
  },
  {
   "cell_type": "code",
   "execution_count": 24,
   "id": "238717c3",
   "metadata": {},
   "outputs": [
    {
     "name": "stdout",
     "output_type": "stream",
     "text": [
      "Before: Count=13, Mean=528.0769230769231, Var=3193.5769230769233\n"
     ]
    }
   ],
   "source": [
    "ic_before = ic_df[(ic_df['INCIDENT_DATE'] >= before_vacc_start) & (ic_df['INCIDENT_DATE'] <= before_vacc_end)]\n",
    "\n",
    "ic_before_count = len(ic_before.groupby(by = [\"INCIDENT_DATE\"]).agg('sum')[\"INCIDENT_COUNT\"])\n",
    "ic_before_mean_incidents = ic_before.groupby(by = [\"INCIDENT_DATE\"]).agg('sum')[\"INCIDENT_COUNT\"].mean()\n",
    "ic_before_var_incidents = ic_before.groupby(by = [\"INCIDENT_DATE\"]).agg('sum')[\"INCIDENT_COUNT\"].var()\n",
    "\n",
    "print(f'Before: Count={ic_before_count}, Mean={ic_before_mean_incidents}, Var={ic_before_var_incidents}')"
   ]
  },
  {
   "cell_type": "code",
   "execution_count": 38,
   "id": "b0c57eca",
   "metadata": {},
   "outputs": [
    {
     "data": {
      "text/plain": [
       "[<matplotlib.lines.Line2D at 0x7f27b9bbd2b0>]"
      ]
     },
     "execution_count": 38,
     "metadata": {},
     "output_type": "execute_result"
    },
    {
     "data": {
      "image/png": "[encoded data removed]",
      "text/plain": [
       "<Figure size 432x288 with 1 Axes>"
      ]
     },
     "metadata": {
      "needs_background": "light"
     },
     "output_type": "display_data"
    }
   ],
   "source": [
    "plt.plot(ic_before.groupby(by = [\"INCIDENT_DATE\"]).agg('sum')[\"INCIDENT_COUNT\"])"
   ]
  },
  {
   "cell_type": "markdown",
   "id": "97485137",
   "metadata": {},
   "source": [
    "### Compute after stats"
   ]
  },
  {
   "cell_type": "code",
   "execution_count": 25,
   "id": "e2aa1c42",
   "metadata": {},
   "outputs": [
    {
     "name": "stdout",
     "output_type": "stream",
     "text": [
      "After: Count=18, Mean=471.8333333333333, Var=5460.264705882352\n"
     ]
    }
   ],
   "source": [
    "ic_after = ic_df[(ic_df['INCIDENT_DATE'] >= after_vacc_start) & (ic_df['INCIDENT_DATE'] <= after_vacc_end)]\n",
    "\n",
    "ic_after_count = len(ic_after.groupby(by = [\"INCIDENT_DATE\"]).agg('sum')[\"INCIDENT_COUNT\"])\n",
    "ic_after_mean_incidents = ic_after.groupby(by = [\"INCIDENT_DATE\"]).agg('sum')[\"INCIDENT_COUNT\"].mean()\n",
    "ic_after_var_incidents = ic_after.groupby(by = [\"INCIDENT_DATE\"]).agg('sum')[\"INCIDENT_COUNT\"].var()\n",
    "\n",
    "print(f'After: Count={ic_after_count}, Mean={ic_after_mean_incidents}, Var={ic_after_var_incidents}')"
   ]
  },
  {
   "cell_type": "code",
   "execution_count": 40,
   "id": "bb5de155",
   "metadata": {},
   "outputs": [
    {
     "data": {
      "text/plain": [
       "[<matplotlib.lines.Line2D at 0x7f27b95e21c0>]"
      ]
     },
     "execution_count": 40,
     "metadata": {},
     "output_type": "execute_result"
    },
    {
     "data": {
      "image/png": "[encoded data removed]",
      "text/plain": [
       "<Figure size 432x288 with 1 Axes>"
      ]
     },
     "metadata": {
      "needs_background": "light"
     },
     "output_type": "display_data"
    }
   ],
   "source": [
    "plt.plot(ic_after.groupby(by = [\"INCIDENT_DATE\"]).agg('sum')[\"INCIDENT_COUNT\"])"
   ]
  },
  {
   "cell_type": "markdown",
   "id": "8e933ab0",
   "metadata": {},
   "source": [
    "### Compute Wald's Statistic\n",
    "This is a two tailed Wald's test. We computed sample means of count of incidents and check it against alpha=0.05"
   ]
  },
  {
   "cell_type": "code",
   "execution_count": 49,
   "id": "a21cd04e",
   "metadata": {},
   "outputs": [
    {
     "name": "stdout",
     "output_type": "stream",
     "text": [
      "W = -2.400400858168235\n",
      "p-value = 0.016377126422557176 < 0.05? | Reject Null: True\n"
     ]
    }
   ],
   "source": [
    "delta = ic_after_mean_incidents - ic_before_mean_incidents\n",
    "W = delta / math.sqrt(ic_after_var_incidents/ic_after_count + ic_before_var_incidents/ic_before_count)\n",
    "print(f'W = {W}')\n",
    "p_val = (1 - norm.cdf(abs(W), 0, 1)) * 2\n",
    "print(f'p-value = {p_val} < 0.05? | Reject Null: {p_val < 0.05}')"
   ]
  },
  {
   "cell_type": "markdown",
   "id": "b79fb8ac",
   "metadata": {},
   "source": [
    "# Georgia: Crime Incidents Before and After Vaccinations"
   ]
  },
  {
   "cell_type": "markdown",
   "id": "096688a4",
   "metadata": {},
   "source": [
    "Since the crime \"incident\" dataset is only available between 15th Dec 2020 and 31st Dec 2020, and vaccinations start on 14th Dec 2020, we analyze the difference in crime 15 days before and 15 days after vaccinations started."
   ]
  },
  {
   "cell_type": "code",
   "execution_count": 29,
   "id": "b995686d",
   "metadata": {},
   "outputs": [],
   "source": [
    "# get incident count\n",
    "georgia_crime_incidents = \"dataset/GA/NIBRS_incident.csv\"\n",
    "ga_df = pd.read_csv(georgia_crime_incidents)\n",
    "ga_df['INCIDENT_DATE'] = pd.to_datetime(ga_df['INCIDENT_DATE'])\n",
    "ga_df = ga_df.sort_values(by = ['INCIDENT_DATE'])\n",
    "\n",
    "ga_df[\"INCIDENT_COUNT\"] = 1"
   ]
  },
  {
   "cell_type": "markdown",
   "id": "612ee2be",
   "metadata": {},
   "source": [
    "### Compute before stats"
   ]
  },
  {
   "cell_type": "code",
   "execution_count": 31,
   "id": "b3fef197",
   "metadata": {},
   "outputs": [
    {
     "name": "stdout",
     "output_type": "stream",
     "text": [
      "Before: Count=13, Mean=943.6153846153846, Var=6963.25641025641\n"
     ]
    }
   ],
   "source": [
    "ga_before = ga_df[(ga_df['INCIDENT_DATE'] >= before_vacc_start) & (ga_df['INCIDENT_DATE'] <= before_vacc_end)]\n",
    "\n",
    "ga_before_count = len(ga_before.groupby(by = [\"INCIDENT_DATE\"]).agg('sum')[\"INCIDENT_COUNT\"])\n",
    "ga_before_mean_incidents = ga_before.groupby(by = [\"INCIDENT_DATE\"]).agg('sum')[\"INCIDENT_COUNT\"].mean()\n",
    "ga_before_var_incidents = ga_before.groupby(by = [\"INCIDENT_DATE\"]).agg('sum')[\"INCIDENT_COUNT\"].var()\n",
    "\n",
    "print(f'Before: Count={ga_before_count}, Mean={ga_before_mean_incidents}, Var={ga_before_var_incidents}')"
   ]
  },
  {
   "cell_type": "markdown",
   "id": "6852ccad",
   "metadata": {},
   "source": [
    "### Compute after stats"
   ]
  },
  {
   "cell_type": "code",
   "execution_count": 32,
   "id": "33e5acf8",
   "metadata": {},
   "outputs": [
    {
     "name": "stdout",
     "output_type": "stream",
     "text": [
      "After: Count=18, Mean=885.2222222222222, Var=12899.830065359478\n"
     ]
    }
   ],
   "source": [
    "ga_after = ga_df[(ga_df['INCIDENT_DATE'] >= after_vacc_start) & (ga_df['INCIDENT_DATE'] <= after_vacc_end)]\n",
    "\n",
    "ga_after_count = len(ga_after.groupby(by = [\"INCIDENT_DATE\"]).agg('sum')[\"INCIDENT_COUNT\"])\n",
    "ga_after_mean_incidents = ga_after.groupby(by = [\"INCIDENT_DATE\"]).agg('sum')[\"INCIDENT_COUNT\"].mean()\n",
    "ga_after_var_incidents = ga_after.groupby(by = [\"INCIDENT_DATE\"]).agg('sum')[\"INCIDENT_COUNT\"].var()\n",
    "\n",
    "print(f'After: Count={ga_after_count}, Mean={ga_after_mean_incidents}, Var={ga_after_var_incidents}')"
   ]
  },
  {
   "cell_type": "markdown",
   "id": "9a735cac",
   "metadata": {},
   "source": [
    "### Compute Wald's Statistic\n",
    "This is a two tailed Wald's test. We computed sample means of count of incidents and check it against alpha=0.05"
   ]
  },
  {
   "cell_type": "code",
   "execution_count": 50,
   "id": "7d95fddb",
   "metadata": {},
   "outputs": [
    {
     "name": "stdout",
     "output_type": "stream",
     "text": [
      "W = -1.6500957087439831\n",
      "p-value = 0.0989233623179373 < 0.05? | Reject Null: False\n"
     ]
    }
   ],
   "source": [
    "delta = ga_after_mean_incidents - ga_before_mean_incidents\n",
    "W = delta / math.sqrt(ga_after_var_incidents/ga_after_count + ga_before_var_incidents/ga_before_count)\n",
    "print(f'W = {W}')\n",
    "p_val = (1 - norm.cdf(abs(W), 0, 1)) * 2\n",
    "print(f'p-value = {p_val} < 0.05? | Reject Null: {p_val < 0.05}')"
   ]
  },
  {
   "cell_type": "markdown",
   "id": "2f5e95d0",
   "metadata": {},
   "source": [
    "## Applicability of Wald's test\n",
    "Since we are modeling the number of occurrences of a random event, that is the number of crime incidents each day, we think of the data following a Poisson distribution. The MLE estimate of Poisson is the sample mean. Since MLE estimates are Asymptotically Normal, we can apply Wald's test here."
   ]
  },
  {
   "cell_type": "markdown",
   "id": "f5447a12",
   "metadata": {},
   "source": [
    "# Inference\n",
    "In this piece, we tried evaluating a probably unheard of hypothesis i.e. trying to find if vaccinations and crimes are correlated. This information might be useful to detect early signs of coordinated crimes for a certain scarce resource. But we do agree that this could also come from a latent factor not seen in the study (such as an ongoing social issue).\n",
    "\n",
    "For the state of Indiana, Wald's statistic rejects null hypotheses whereas for the state of Georgia, it fails to reject the null hypothesis. This may not be easily understood in this example just by looking at the plots which to some extent proves usefulness of statistical tests we learned in the class."
   ]
  },
  {
   "cell_type": "code",
   "execution_count": null,
   "id": "c801fd52",
   "metadata": {},
   "outputs": [],
   "source": []
  }
 ],
 "metadata": {
  "kernelspec": {
   "display_name": "Python 3 (ipykernel)",
   "language": "python",
   "name": "python3"
  },
  "language_info": {
   "codemirror_mode": {
    "name": "ipython",
    "version": 3
   },
   "file_extension": ".py",
   "mimetype": "text/x-python",
   "name": "python",
   "nbconvert_exporter": "python",
   "pygments_lexer": "ipython3",
   "version": "3.8.12"
  }
 },
 "nbformat": 4,
 "nbformat_minor": 5
}
